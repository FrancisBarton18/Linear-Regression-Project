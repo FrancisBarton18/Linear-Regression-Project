{
 "cells": [
  {
   "cell_type": "markdown",
   "metadata": {},
   "source": [
    "### Imports"
   ]
  },
  {
   "cell_type": "code",
   "execution_count": 1,
   "metadata": {},
   "outputs": [],
   "source": [
    "import numpy as np\n",
    "import pandas as pd\n",
    "import matplotlib.pyplot as plt\n",
    "import seaborn as sns"
   ]
  },
  {
   "cell_type": "markdown",
   "metadata": {},
   "source": [
    "### Data"
   ]
  },
  {
   "cell_type": "code",
   "execution_count": 2,
   "metadata": {},
   "outputs": [],
   "source": [
    "df = pd.read_csv(\"../DATA/AMES_Final_DF.csv\")"
   ]
  },
  {
   "cell_type": "code",
   "execution_count": 3,
   "metadata": {},
   "outputs": [
    {
     "data": {
      "text/html": [
       "<div>\n",
       "<style scoped>\n",
       "    .dataframe tbody tr th:only-of-type {\n",
       "        vertical-align: middle;\n",
       "    }\n",
       "\n",
       "    .dataframe tbody tr th {\n",
       "        vertical-align: top;\n",
       "    }\n",
       "\n",
       "    .dataframe thead th {\n",
       "        text-align: right;\n",
       "    }\n",
       "</style>\n",
       "<table border=\"1\" class=\"dataframe\">\n",
       "  <thead>\n",
       "    <tr style=\"text-align: right;\">\n",
       "      <th></th>\n",
       "      <th>Lot Frontage</th>\n",
       "      <th>Lot Area</th>\n",
       "      <th>Overall Qual</th>\n",
       "      <th>Overall Cond</th>\n",
       "      <th>Year Built</th>\n",
       "      <th>Year Remod/Add</th>\n",
       "      <th>Mas Vnr Area</th>\n",
       "      <th>BsmtFin SF 1</th>\n",
       "      <th>BsmtFin SF 2</th>\n",
       "      <th>Bsmt Unf SF</th>\n",
       "      <th>...</th>\n",
       "      <th>Sale Type_ConLw</th>\n",
       "      <th>Sale Type_New</th>\n",
       "      <th>Sale Type_Oth</th>\n",
       "      <th>Sale Type_VWD</th>\n",
       "      <th>Sale Type_WD</th>\n",
       "      <th>Sale Condition_AdjLand</th>\n",
       "      <th>Sale Condition_Alloca</th>\n",
       "      <th>Sale Condition_Family</th>\n",
       "      <th>Sale Condition_Normal</th>\n",
       "      <th>Sale Condition_Partial</th>\n",
       "    </tr>\n",
       "  </thead>\n",
       "  <tbody>\n",
       "    <tr>\n",
       "      <th>0</th>\n",
       "      <td>141.0</td>\n",
       "      <td>31770</td>\n",
       "      <td>6</td>\n",
       "      <td>5</td>\n",
       "      <td>1960</td>\n",
       "      <td>1960</td>\n",
       "      <td>112.0</td>\n",
       "      <td>639.0</td>\n",
       "      <td>0.0</td>\n",
       "      <td>441.0</td>\n",
       "      <td>...</td>\n",
       "      <td>0</td>\n",
       "      <td>0</td>\n",
       "      <td>0</td>\n",
       "      <td>0</td>\n",
       "      <td>1</td>\n",
       "      <td>0</td>\n",
       "      <td>0</td>\n",
       "      <td>0</td>\n",
       "      <td>1</td>\n",
       "      <td>0</td>\n",
       "    </tr>\n",
       "    <tr>\n",
       "      <th>1</th>\n",
       "      <td>80.0</td>\n",
       "      <td>11622</td>\n",
       "      <td>5</td>\n",
       "      <td>6</td>\n",
       "      <td>1961</td>\n",
       "      <td>1961</td>\n",
       "      <td>0.0</td>\n",
       "      <td>468.0</td>\n",
       "      <td>144.0</td>\n",
       "      <td>270.0</td>\n",
       "      <td>...</td>\n",
       "      <td>0</td>\n",
       "      <td>0</td>\n",
       "      <td>0</td>\n",
       "      <td>0</td>\n",
       "      <td>1</td>\n",
       "      <td>0</td>\n",
       "      <td>0</td>\n",
       "      <td>0</td>\n",
       "      <td>1</td>\n",
       "      <td>0</td>\n",
       "    </tr>\n",
       "    <tr>\n",
       "      <th>2</th>\n",
       "      <td>81.0</td>\n",
       "      <td>14267</td>\n",
       "      <td>6</td>\n",
       "      <td>6</td>\n",
       "      <td>1958</td>\n",
       "      <td>1958</td>\n",
       "      <td>108.0</td>\n",
       "      <td>923.0</td>\n",
       "      <td>0.0</td>\n",
       "      <td>406.0</td>\n",
       "      <td>...</td>\n",
       "      <td>0</td>\n",
       "      <td>0</td>\n",
       "      <td>0</td>\n",
       "      <td>0</td>\n",
       "      <td>1</td>\n",
       "      <td>0</td>\n",
       "      <td>0</td>\n",
       "      <td>0</td>\n",
       "      <td>1</td>\n",
       "      <td>0</td>\n",
       "    </tr>\n",
       "    <tr>\n",
       "      <th>3</th>\n",
       "      <td>93.0</td>\n",
       "      <td>11160</td>\n",
       "      <td>7</td>\n",
       "      <td>5</td>\n",
       "      <td>1968</td>\n",
       "      <td>1968</td>\n",
       "      <td>0.0</td>\n",
       "      <td>1065.0</td>\n",
       "      <td>0.0</td>\n",
       "      <td>1045.0</td>\n",
       "      <td>...</td>\n",
       "      <td>0</td>\n",
       "      <td>0</td>\n",
       "      <td>0</td>\n",
       "      <td>0</td>\n",
       "      <td>1</td>\n",
       "      <td>0</td>\n",
       "      <td>0</td>\n",
       "      <td>0</td>\n",
       "      <td>1</td>\n",
       "      <td>0</td>\n",
       "    </tr>\n",
       "    <tr>\n",
       "      <th>4</th>\n",
       "      <td>74.0</td>\n",
       "      <td>13830</td>\n",
       "      <td>5</td>\n",
       "      <td>5</td>\n",
       "      <td>1997</td>\n",
       "      <td>1998</td>\n",
       "      <td>0.0</td>\n",
       "      <td>791.0</td>\n",
       "      <td>0.0</td>\n",
       "      <td>137.0</td>\n",
       "      <td>...</td>\n",
       "      <td>0</td>\n",
       "      <td>0</td>\n",
       "      <td>0</td>\n",
       "      <td>0</td>\n",
       "      <td>1</td>\n",
       "      <td>0</td>\n",
       "      <td>0</td>\n",
       "      <td>0</td>\n",
       "      <td>1</td>\n",
       "      <td>0</td>\n",
       "    </tr>\n",
       "  </tbody>\n",
       "</table>\n",
       "<p>5 rows × 274 columns</p>\n",
       "</div>"
      ],
      "text/plain": [
       "   Lot Frontage  Lot Area  Overall Qual  Overall Cond  Year Built  \\\n",
       "0         141.0     31770             6             5        1960   \n",
       "1          80.0     11622             5             6        1961   \n",
       "2          81.0     14267             6             6        1958   \n",
       "3          93.0     11160             7             5        1968   \n",
       "4          74.0     13830             5             5        1997   \n",
       "\n",
       "   Year Remod/Add  Mas Vnr Area  BsmtFin SF 1  BsmtFin SF 2  Bsmt Unf SF  ...  \\\n",
       "0            1960         112.0         639.0           0.0        441.0  ...   \n",
       "1            1961           0.0         468.0         144.0        270.0  ...   \n",
       "2            1958         108.0         923.0           0.0        406.0  ...   \n",
       "3            1968           0.0        1065.0           0.0       1045.0  ...   \n",
       "4            1998           0.0         791.0           0.0        137.0  ...   \n",
       "\n",
       "   Sale Type_ConLw  Sale Type_New  Sale Type_Oth  Sale Type_VWD  \\\n",
       "0                0              0              0              0   \n",
       "1                0              0              0              0   \n",
       "2                0              0              0              0   \n",
       "3                0              0              0              0   \n",
       "4                0              0              0              0   \n",
       "\n",
       "   Sale Type_WD   Sale Condition_AdjLand  Sale Condition_Alloca  \\\n",
       "0              1                       0                      0   \n",
       "1              1                       0                      0   \n",
       "2              1                       0                      0   \n",
       "3              1                       0                      0   \n",
       "4              1                       0                      0   \n",
       "\n",
       "   Sale Condition_Family  Sale Condition_Normal  Sale Condition_Partial  \n",
       "0                      0                      1                       0  \n",
       "1                      0                      1                       0  \n",
       "2                      0                      1                       0  \n",
       "3                      0                      1                       0  \n",
       "4                      0                      1                       0  \n",
       "\n",
       "[5 rows x 274 columns]"
      ]
     },
     "execution_count": 3,
     "metadata": {},
     "output_type": "execute_result"
    }
   ],
   "source": [
    "df.head()"
   ]
  },
  {
   "cell_type": "code",
   "execution_count": 4,
   "metadata": {},
   "outputs": [
    {
     "name": "stdout",
     "output_type": "stream",
     "text": [
      "<class 'pandas.core.frame.DataFrame'>\n",
      "RangeIndex: 2925 entries, 0 to 2924\n",
      "Columns: 274 entries, Lot Frontage to Sale Condition_Partial\n",
      "dtypes: float64(11), int64(263)\n",
      "memory usage: 6.1 MB\n"
     ]
    }
   ],
   "source": [
    "df.info()"
   ]
  },
  {
   "cell_type": "markdown",
   "metadata": {},
   "source": [
    "**TASK: The label we are trying to predict is the SalePrice column. Separate out the data into X features and y labels**"
   ]
  },
  {
   "cell_type": "code",
   "execution_count": 5,
   "metadata": {},
   "outputs": [],
   "source": [
    "X = df.drop('SalePrice',axis=1)"
   ]
  },
  {
   "cell_type": "code",
   "execution_count": 17,
   "metadata": {},
   "outputs": [],
   "source": [
    "y = df['SalePrice']"
   ]
  },
  {
   "cell_type": "markdown",
   "metadata": {},
   "source": [
    "**TASK: Use scikit-learn to split up X and y into a training set and test set. Since we will later be using a Grid Search strategy, set your test proportion to 10%. To get the same data split as the solutions notebook, you can specify random_state = 101**"
   ]
  },
  {
   "cell_type": "code",
   "execution_count": 13,
   "metadata": {},
   "outputs": [],
   "source": [
    "from sklearn.model_selection import train_test_split"
   ]
  },
  {
   "cell_type": "code",
   "execution_count": 18,
   "metadata": {},
   "outputs": [],
   "source": [
    "X_train, X_test, y_train, y_test = train_test_split(X, y, test_size=0.10, random_state=101)"
   ]
  },
  {
   "cell_type": "markdown",
   "metadata": {},
   "source": [
    "**TASK: The dataset features has a variety of scales and units. For optimal regression performance, scale the X features. Take carefuly note of what to use for .fit() vs what to use for .transform()**"
   ]
  },
  {
   "cell_type": "code",
   "execution_count": 19,
   "metadata": {},
   "outputs": [],
   "source": [
    "from sklearn.preprocessing import StandardScaler"
   ]
  },
  {
   "cell_type": "code",
   "execution_count": 20,
   "metadata": {},
   "outputs": [
    {
     "data": {
      "text/plain": [
       "array([[ 3.42618958,  2.89713551, -0.05639001, ..., -0.13038998,\n",
       "         0.46443986, -0.30126134],\n",
       "       [ 0.50321325,  0.20981305, -0.7631448 , ..., -0.13038998,\n",
       "         0.46443986, -0.30126134],\n",
       "       [ 0.5511309 ,  0.56260082, -0.05639001, ..., -0.13038998,\n",
       "         0.46443986, -0.30126134],\n",
       "       ...,\n",
       "       [-0.35930435,  0.05229232, -0.7631448 , ..., -0.13038998,\n",
       "         0.46443986, -0.30126134],\n",
       "       [ 0.35946032, -0.00519408, -0.7631448 , ..., -0.13038998,\n",
       "         0.46443986, -0.30126134],\n",
       "       [ 0.21570739, -0.05627828,  0.65036478, ..., -0.13038998,\n",
       "         0.46443986, -0.30126134]])"
      ]
     },
     "execution_count": 20,
     "metadata": {},
     "output_type": "execute_result"
    }
   ],
   "source": [
    "StandardScaler().fit(X_train).transform(X)"
   ]
  },
  {
   "cell_type": "code",
   "execution_count": 38,
   "metadata": {},
   "outputs": [],
   "source": []
  },
  {
   "cell_type": "markdown",
   "metadata": {},
   "source": [
    "**TASK: We will use an Elastic Net model. Create an instance of default ElasticNet model with scikit-learn**"
   ]
  },
  {
   "cell_type": "code",
   "execution_count": 21,
   "metadata": {},
   "outputs": [],
   "source": [
    "from sklearn.linear_model import ElasticNet"
   ]
  },
  {
   "cell_type": "code",
   "execution_count": 22,
   "metadata": {},
   "outputs": [],
   "source": [
    "model = ElasticNet()"
   ]
  },
  {
   "cell_type": "markdown",
   "metadata": {},
   "source": [
    "**TASK:  The Elastic Net model has two main parameters, alpha and the L1 ratio. Create a dictionary parameter grid of values for the ElasticNet. Feel free to play around with these values, keep in mind, you may not match up exactly with the solution choices**"
   ]
  },
  {
   "cell_type": "code",
   "execution_count": 24,
   "metadata": {},
   "outputs": [],
   "source": [
    "from sklearn.model_selection import ParameterGrid"
   ]
  },
  {
   "cell_type": "code",
   "execution_count": 61,
   "metadata": {},
   "outputs": [],
   "source": [
    "param_grid = {'alpha':[1,10,100],'l1_ratio':[0.1,0.2,0.3,0.4,0.5,0.6,0.7,0.8,0.9,1]}"
   ]
  },
  {
   "cell_type": "markdown",
   "metadata": {},
   "source": [
    "**TASK: Using scikit-learn create a GridSearchCV object and run a grid search for the best parameters for your model based on your scaled training data. [In case you are curious about the warnings you may recieve for certain parameter combinations](https://stackoverflow.com/questions/20681864/lasso-on-sklearn-does-not-converge)**"
   ]
  },
  {
   "cell_type": "code",
   "execution_count": 27,
   "metadata": {},
   "outputs": [],
   "source": [
    "from sklearn.model_selection import GridSearchCV"
   ]
  },
  {
   "cell_type": "code",
   "execution_count": 62,
   "metadata": {},
   "outputs": [],
   "source": [
    "GSCV = GridSearchCV(estimator=model,param_grid=param_grid,scoring='neg_mean_squared_error',cv=10)"
   ]
  },
  {
   "cell_type": "code",
   "execution_count": 63,
   "metadata": {},
   "outputs": [
    {
     "name": "stderr",
     "output_type": "stream",
     "text": [
      "C:\\Users\\Franc\\anaconda3\\lib\\site-packages\\sklearn\\linear_model\\_coordinate_descent.py:532: ConvergenceWarning: Objective did not converge. You might want to increase the number of iterations. Duality gap: 1048610842510.3226, tolerance: 1536859599.6164982\n",
      "  positive)\n",
      "C:\\Users\\Franc\\anaconda3\\lib\\site-packages\\sklearn\\linear_model\\_coordinate_descent.py:532: ConvergenceWarning: Objective did not converge. You might want to increase the number of iterations. Duality gap: 1033934601349.1387, tolerance: 1533543348.4009626\n",
      "  positive)\n",
      "C:\\Users\\Franc\\anaconda3\\lib\\site-packages\\sklearn\\linear_model\\_coordinate_descent.py:532: ConvergenceWarning: Objective did not converge. You might want to increase the number of iterations. Duality gap: 1077270095456.1846, tolerance: 1569498936.193926\n",
      "  positive)\n",
      "C:\\Users\\Franc\\anaconda3\\lib\\site-packages\\sklearn\\linear_model\\_coordinate_descent.py:532: ConvergenceWarning: Objective did not converge. You might want to increase the number of iterations. Duality gap: 1033193623323.053, tolerance: 1454832032.4183369\n",
      "  positive)\n",
      "C:\\Users\\Franc\\anaconda3\\lib\\site-packages\\sklearn\\linear_model\\_coordinate_descent.py:532: ConvergenceWarning: Objective did not converge. You might want to increase the number of iterations. Duality gap: 1101762744711.2344, tolerance: 1567300499.9324098\n",
      "  positive)\n",
      "C:\\Users\\Franc\\anaconda3\\lib\\site-packages\\sklearn\\linear_model\\_coordinate_descent.py:532: ConvergenceWarning: Objective did not converge. You might want to increase the number of iterations. Duality gap: 1103304901373.8481, tolerance: 1563613929.1629386\n",
      "  positive)\n",
      "C:\\Users\\Franc\\anaconda3\\lib\\site-packages\\sklearn\\linear_model\\_coordinate_descent.py:532: ConvergenceWarning: Objective did not converge. You might want to increase the number of iterations. Duality gap: 1069252699898.1755, tolerance: 1548294253.8260388\n",
      "  positive)\n",
      "C:\\Users\\Franc\\anaconda3\\lib\\site-packages\\sklearn\\linear_model\\_coordinate_descent.py:532: ConvergenceWarning: Objective did not converge. You might want to increase the number of iterations. Duality gap: 1109774126628.3352, tolerance: 1605914768.0799258\n",
      "  positive)\n",
      "C:\\Users\\Franc\\anaconda3\\lib\\site-packages\\sklearn\\linear_model\\_coordinate_descent.py:532: ConvergenceWarning: Objective did not converge. You might want to increase the number of iterations. Duality gap: 1054003806401.0715, tolerance: 1515807608.6357646\n",
      "  positive)\n",
      "C:\\Users\\Franc\\anaconda3\\lib\\site-packages\\sklearn\\linear_model\\_coordinate_descent.py:532: ConvergenceWarning: Objective did not converge. You might want to increase the number of iterations. Duality gap: 1081141089074.4219, tolerance: 1545968373.693442\n",
      "  positive)\n",
      "C:\\Users\\Franc\\anaconda3\\lib\\site-packages\\sklearn\\linear_model\\_coordinate_descent.py:532: ConvergenceWarning: Objective did not converge. You might want to increase the number of iterations. Duality gap: 1026908263124.7173, tolerance: 1536859599.6164982\n",
      "  positive)\n",
      "C:\\Users\\Franc\\anaconda3\\lib\\site-packages\\sklearn\\linear_model\\_coordinate_descent.py:532: ConvergenceWarning: Objective did not converge. You might want to increase the number of iterations. Duality gap: 1013188111299.5043, tolerance: 1533543348.4009626\n",
      "  positive)\n",
      "C:\\Users\\Franc\\anaconda3\\lib\\site-packages\\sklearn\\linear_model\\_coordinate_descent.py:532: ConvergenceWarning: Objective did not converge. You might want to increase the number of iterations. Duality gap: 1055572146413.8427, tolerance: 1569498936.193926\n",
      "  positive)\n",
      "C:\\Users\\Franc\\anaconda3\\lib\\site-packages\\sklearn\\linear_model\\_coordinate_descent.py:532: ConvergenceWarning: Objective did not converge. You might want to increase the number of iterations. Duality gap: 1011332386708.7767, tolerance: 1454832032.4183369\n",
      "  positive)\n",
      "C:\\Users\\Franc\\anaconda3\\lib\\site-packages\\sklearn\\linear_model\\_coordinate_descent.py:532: ConvergenceWarning: Objective did not converge. You might want to increase the number of iterations. Duality gap: 1079498821847.6035, tolerance: 1567300499.9324098\n",
      "  positive)\n",
      "C:\\Users\\Franc\\anaconda3\\lib\\site-packages\\sklearn\\linear_model\\_coordinate_descent.py:532: ConvergenceWarning: Objective did not converge. You might want to increase the number of iterations. Duality gap: 1080748832482.6951, tolerance: 1563613929.1629386\n",
      "  positive)\n",
      "C:\\Users\\Franc\\anaconda3\\lib\\site-packages\\sklearn\\linear_model\\_coordinate_descent.py:532: ConvergenceWarning: Objective did not converge. You might want to increase the number of iterations. Duality gap: 1047796027389.2585, tolerance: 1548294253.8260388\n",
      "  positive)\n",
      "C:\\Users\\Franc\\anaconda3\\lib\\site-packages\\sklearn\\linear_model\\_coordinate_descent.py:532: ConvergenceWarning: Objective did not converge. You might want to increase the number of iterations. Duality gap: 1087149914027.3284, tolerance: 1605914768.0799258\n",
      "  positive)\n",
      "C:\\Users\\Franc\\anaconda3\\lib\\site-packages\\sklearn\\linear_model\\_coordinate_descent.py:532: ConvergenceWarning: Objective did not converge. You might want to increase the number of iterations. Duality gap: 1031166718605.9603, tolerance: 1515807608.6357646\n",
      "  positive)\n",
      "C:\\Users\\Franc\\anaconda3\\lib\\site-packages\\sklearn\\linear_model\\_coordinate_descent.py:532: ConvergenceWarning: Objective did not converge. You might want to increase the number of iterations. Duality gap: 1059473974451.9635, tolerance: 1545968373.693442\n",
      "  positive)\n",
      "C:\\Users\\Franc\\anaconda3\\lib\\site-packages\\sklearn\\linear_model\\_coordinate_descent.py:532: ConvergenceWarning: Objective did not converge. You might want to increase the number of iterations. Duality gap: 1001561357246.8276, tolerance: 1536859599.6164982\n",
      "  positive)\n",
      "C:\\Users\\Franc\\anaconda3\\lib\\site-packages\\sklearn\\linear_model\\_coordinate_descent.py:532: ConvergenceWarning: Objective did not converge. You might want to increase the number of iterations. Duality gap: 988950721324.0328, tolerance: 1533543348.4009626\n",
      "  positive)\n",
      "C:\\Users\\Franc\\anaconda3\\lib\\site-packages\\sklearn\\linear_model\\_coordinate_descent.py:532: ConvergenceWarning: Objective did not converge. You might want to increase the number of iterations. Duality gap: 1030163435404.1829, tolerance: 1569498936.193926\n",
      "  positive)\n",
      "C:\\Users\\Franc\\anaconda3\\lib\\site-packages\\sklearn\\linear_model\\_coordinate_descent.py:532: ConvergenceWarning: Objective did not converge. You might want to increase the number of iterations. Duality gap: 985719162994.5653, tolerance: 1454832032.4183369\n",
      "  positive)\n",
      "C:\\Users\\Franc\\anaconda3\\lib\\site-packages\\sklearn\\linear_model\\_coordinate_descent.py:532: ConvergenceWarning: Objective did not converge. You might want to increase the number of iterations. Duality gap: 1053443933202.3748, tolerance: 1567300499.9324098\n",
      "  positive)\n",
      "C:\\Users\\Franc\\anaconda3\\lib\\site-packages\\sklearn\\linear_model\\_coordinate_descent.py:532: ConvergenceWarning: Objective did not converge. You might want to increase the number of iterations. Duality gap: 1054363924626.1589, tolerance: 1563613929.1629386\n",
      "  positive)\n",
      "C:\\Users\\Franc\\anaconda3\\lib\\site-packages\\sklearn\\linear_model\\_coordinate_descent.py:532: ConvergenceWarning: Objective did not converge. You might want to increase the number of iterations. Duality gap: 1022680087789.5704, tolerance: 1548294253.8260388\n",
      "  positive)\n",
      "C:\\Users\\Franc\\anaconda3\\lib\\site-packages\\sklearn\\linear_model\\_coordinate_descent.py:532: ConvergenceWarning: Objective did not converge. You might want to increase the number of iterations. Duality gap: 1060708786177.355, tolerance: 1605914768.0799258\n",
      "  positive)\n",
      "C:\\Users\\Franc\\anaconda3\\lib\\site-packages\\sklearn\\linear_model\\_coordinate_descent.py:532: ConvergenceWarning: Objective did not converge. You might want to increase the number of iterations. Duality gap: 1004364128341.4667, tolerance: 1515807608.6357646\n",
      "  positive)\n",
      "C:\\Users\\Franc\\anaconda3\\lib\\site-packages\\sklearn\\linear_model\\_coordinate_descent.py:532: ConvergenceWarning: Objective did not converge. You might want to increase the number of iterations. Duality gap: 1034133124677.0497, tolerance: 1545968373.693442\n",
      "  positive)\n",
      "C:\\Users\\Franc\\anaconda3\\lib\\site-packages\\sklearn\\linear_model\\_coordinate_descent.py:532: ConvergenceWarning: Objective did not converge. You might want to increase the number of iterations. Duality gap: 971387241844.9058, tolerance: 1536859599.6164982\n",
      "  positive)\n"
     ]
    },
    {
     "name": "stderr",
     "output_type": "stream",
     "text": [
      "C:\\Users\\Franc\\anaconda3\\lib\\site-packages\\sklearn\\linear_model\\_coordinate_descent.py:532: ConvergenceWarning: Objective did not converge. You might want to increase the number of iterations. Duality gap: 960090868251.0446, tolerance: 1533543348.4009626\n",
      "  positive)\n",
      "C:\\Users\\Franc\\anaconda3\\lib\\site-packages\\sklearn\\linear_model\\_coordinate_descent.py:532: ConvergenceWarning: Objective did not converge. You might want to increase the number of iterations. Duality gap: 999816359638.5275, tolerance: 1569498936.193926\n",
      "  positive)\n",
      "C:\\Users\\Franc\\anaconda3\\lib\\site-packages\\sklearn\\linear_model\\_coordinate_descent.py:532: ConvergenceWarning: Objective did not converge. You might want to increase the number of iterations. Duality gap: 955112274378.5646, tolerance: 1454832032.4183369\n",
      "  positive)\n",
      "C:\\Users\\Franc\\anaconda3\\lib\\site-packages\\sklearn\\linear_model\\_coordinate_descent.py:532: ConvergenceWarning: Objective did not converge. You might want to increase the number of iterations. Duality gap: 1022352623928.9893, tolerance: 1567300499.9324098\n",
      "  positive)\n",
      "C:\\Users\\Franc\\anaconda3\\lib\\site-packages\\sklearn\\linear_model\\_coordinate_descent.py:532: ConvergenceWarning: Objective did not converge. You might want to increase the number of iterations. Duality gap: 1022897351259.3906, tolerance: 1563613929.1629386\n",
      "  positive)\n",
      "C:\\Users\\Franc\\anaconda3\\lib\\site-packages\\sklearn\\linear_model\\_coordinate_descent.py:532: ConvergenceWarning: Objective did not converge. You might want to increase the number of iterations. Duality gap: 992697350433.5591, tolerance: 1548294253.8260388\n",
      "  positive)\n",
      "C:\\Users\\Franc\\anaconda3\\lib\\site-packages\\sklearn\\linear_model\\_coordinate_descent.py:532: ConvergenceWarning: Objective did not converge. You might want to increase the number of iterations. Duality gap: 1029204267185.1382, tolerance: 1605914768.0799258\n",
      "  positive)\n",
      "C:\\Users\\Franc\\anaconda3\\lib\\site-packages\\sklearn\\linear_model\\_coordinate_descent.py:532: ConvergenceWarning: Objective did not converge. You might want to increase the number of iterations. Duality gap: 972244081922.1211, tolerance: 1515807608.6357646\n",
      "  positive)\n",
      "C:\\Users\\Franc\\anaconda3\\lib\\site-packages\\sklearn\\linear_model\\_coordinate_descent.py:532: ConvergenceWarning: Objective did not converge. You might want to increase the number of iterations. Duality gap: 1003913085942.0581, tolerance: 1545968373.693442\n",
      "  positive)\n",
      "C:\\Users\\Franc\\anaconda3\\lib\\site-packages\\sklearn\\linear_model\\_coordinate_descent.py:532: ConvergenceWarning: Objective did not converge. You might want to increase the number of iterations. Duality gap: 934524376695.7045, tolerance: 1536859599.6164982\n",
      "  positive)\n",
      "C:\\Users\\Franc\\anaconda3\\lib\\site-packages\\sklearn\\linear_model\\_coordinate_descent.py:532: ConvergenceWarning: Objective did not converge. You might want to increase the number of iterations. Duality gap: 924830814639.174, tolerance: 1533543348.4009626\n",
      "  positive)\n",
      "C:\\Users\\Franc\\anaconda3\\lib\\site-packages\\sklearn\\linear_model\\_coordinate_descent.py:532: ConvergenceWarning: Objective did not converge. You might want to increase the number of iterations. Duality gap: 962587474092.0999, tolerance: 1569498936.193926\n",
      "  positive)\n",
      "C:\\Users\\Franc\\anaconda3\\lib\\site-packages\\sklearn\\linear_model\\_coordinate_descent.py:532: ConvergenceWarning: Objective did not converge. You might want to increase the number of iterations. Duality gap: 917548450630.1085, tolerance: 1454832032.4183369\n",
      "  positive)\n",
      "C:\\Users\\Franc\\anaconda3\\lib\\site-packages\\sklearn\\linear_model\\_coordinate_descent.py:532: ConvergenceWarning: Objective did not converge. You might want to increase the number of iterations. Duality gap: 984259854385.687, tolerance: 1567300499.9324098\n",
      "  positive)\n",
      "C:\\Users\\Franc\\anaconda3\\lib\\site-packages\\sklearn\\linear_model\\_coordinate_descent.py:532: ConvergenceWarning: Objective did not converge. You might want to increase the number of iterations. Duality gap: 984375305281.785, tolerance: 1563613929.1629386\n",
      "  positive)\n",
      "C:\\Users\\Franc\\anaconda3\\lib\\site-packages\\sklearn\\linear_model\\_coordinate_descent.py:532: ConvergenceWarning: Objective did not converge. You might want to increase the number of iterations. Duality gap: 955937827803.6293, tolerance: 1548294253.8260388\n",
      "  positive)\n",
      "C:\\Users\\Franc\\anaconda3\\lib\\site-packages\\sklearn\\linear_model\\_coordinate_descent.py:532: ConvergenceWarning: Objective did not converge. You might want to increase the number of iterations. Duality gap: 990671468605.0907, tolerance: 1605914768.0799258\n",
      "  positive)\n",
      "C:\\Users\\Franc\\anaconda3\\lib\\site-packages\\sklearn\\linear_model\\_coordinate_descent.py:532: ConvergenceWarning: Objective did not converge. You might want to increase the number of iterations. Duality gap: 932632905866.5457, tolerance: 1515807608.6357646\n",
      "  positive)\n",
      "C:\\Users\\Franc\\anaconda3\\lib\\site-packages\\sklearn\\linear_model\\_coordinate_descent.py:532: ConvergenceWarning: Objective did not converge. You might want to increase the number of iterations. Duality gap: 966910674415.3983, tolerance: 1545968373.693442\n",
      "  positive)\n",
      "C:\\Users\\Franc\\anaconda3\\lib\\site-packages\\sklearn\\linear_model\\_coordinate_descent.py:532: ConvergenceWarning: Objective did not converge. You might want to increase the number of iterations. Duality gap: 887773110460.9526, tolerance: 1536859599.6164982\n",
      "  positive)\n",
      "C:\\Users\\Franc\\anaconda3\\lib\\site-packages\\sklearn\\linear_model\\_coordinate_descent.py:532: ConvergenceWarning: Objective did not converge. You might want to increase the number of iterations. Duality gap: 880122353629.5087, tolerance: 1533543348.4009626\n",
      "  positive)\n",
      "C:\\Users\\Franc\\anaconda3\\lib\\site-packages\\sklearn\\linear_model\\_coordinate_descent.py:532: ConvergenceWarning: Objective did not converge. You might want to increase the number of iterations. Duality gap: 915113903590.1708, tolerance: 1569498936.193926\n",
      "  positive)\n",
      "C:\\Users\\Franc\\anaconda3\\lib\\site-packages\\sklearn\\linear_model\\_coordinate_descent.py:532: ConvergenceWarning: Objective did not converge. You might want to increase the number of iterations. Duality gap: 869627795575.6543, tolerance: 1454832032.4183369\n",
      "  positive)\n",
      "C:\\Users\\Franc\\anaconda3\\lib\\site-packages\\sklearn\\linear_model\\_coordinate_descent.py:532: ConvergenceWarning: Objective did not converge. You might want to increase the number of iterations. Duality gap: 935779420380.0693, tolerance: 1567300499.9324098\n",
      "  positive)\n",
      "C:\\Users\\Franc\\anaconda3\\lib\\site-packages\\sklearn\\linear_model\\_coordinate_descent.py:532: ConvergenceWarning: Objective did not converge. You might want to increase the number of iterations. Duality gap: 935403327390.0199, tolerance: 1563613929.1629386\n",
      "  positive)\n",
      "C:\\Users\\Franc\\anaconda3\\lib\\site-packages\\sklearn\\linear_model\\_coordinate_descent.py:532: ConvergenceWarning: Objective did not converge. You might want to increase the number of iterations. Duality gap: 909100426976.8958, tolerance: 1548294253.8260388\n",
      "  positive)\n",
      "C:\\Users\\Franc\\anaconda3\\lib\\site-packages\\sklearn\\linear_model\\_coordinate_descent.py:532: ConvergenceWarning: Objective did not converge. You might want to increase the number of iterations. Duality gap: 941729285603.709, tolerance: 1605914768.0799258\n",
      "  positive)\n",
      "C:\\Users\\Franc\\anaconda3\\lib\\site-packages\\sklearn\\linear_model\\_coordinate_descent.py:532: ConvergenceWarning: Objective did not converge. You might want to increase the number of iterations. Duality gap: 881683123223.3821, tolerance: 1515807608.6357646\n",
      "  positive)\n",
      "C:\\Users\\Franc\\anaconda3\\lib\\site-packages\\sklearn\\linear_model\\_coordinate_descent.py:532: ConvergenceWarning: Objective did not converge. You might want to increase the number of iterations. Duality gap: 919842022527.4688, tolerance: 1545968373.693442\n",
      "  positive)\n",
      "C:\\Users\\Franc\\anaconda3\\lib\\site-packages\\sklearn\\linear_model\\_coordinate_descent.py:532: ConvergenceWarning: Objective did not converge. You might want to increase the number of iterations. Duality gap: 824856984220.0337, tolerance: 1536859599.6164982\n",
      "  positive)\n",
      "C:\\Users\\Franc\\anaconda3\\lib\\site-packages\\sklearn\\linear_model\\_coordinate_descent.py:532: ConvergenceWarning: Objective did not converge. You might want to increase the number of iterations. Duality gap: 820007317860.8501, tolerance: 1533543348.4009626\n",
      "  positive)\n"
     ]
    },
    {
     "name": "stderr",
     "output_type": "stream",
     "text": [
      "C:\\Users\\Franc\\anaconda3\\lib\\site-packages\\sklearn\\linear_model\\_coordinate_descent.py:532: ConvergenceWarning: Objective did not converge. You might want to increase the number of iterations. Duality gap: 850748774239.7574, tolerance: 1569498936.193926\n",
      "  positive)\n",
      "C:\\Users\\Franc\\anaconda3\\lib\\site-packages\\sklearn\\linear_model\\_coordinate_descent.py:532: ConvergenceWarning: Objective did not converge. You might want to increase the number of iterations. Duality gap: 804642310149.1617, tolerance: 1454832032.4183369\n",
      "  positive)\n",
      "C:\\Users\\Franc\\anaconda3\\lib\\site-packages\\sklearn\\linear_model\\_coordinate_descent.py:532: ConvergenceWarning: Objective did not converge. You might want to increase the number of iterations. Duality gap: 870257002561.9248, tolerance: 1567300499.9324098\n",
      "  positive)\n",
      "C:\\Users\\Franc\\anaconda3\\lib\\site-packages\\sklearn\\linear_model\\_coordinate_descent.py:532: ConvergenceWarning: Objective did not converge. You might want to increase the number of iterations. Duality gap: 869327646702.7, tolerance: 1563613929.1629386\n",
      "  positive)\n",
      "C:\\Users\\Franc\\anaconda3\\lib\\site-packages\\sklearn\\linear_model\\_coordinate_descent.py:532: ConvergenceWarning: Objective did not converge. You might want to increase the number of iterations. Duality gap: 845667817110.5475, tolerance: 1548294253.8260388\n",
      "  positive)\n",
      "C:\\Users\\Franc\\anaconda3\\lib\\site-packages\\sklearn\\linear_model\\_coordinate_descent.py:532: ConvergenceWarning: Objective did not converge. You might want to increase the number of iterations. Duality gap: 875739260734.9297, tolerance: 1605914768.0799258\n",
      "  positive)\n",
      "C:\\Users\\Franc\\anaconda3\\lib\\site-packages\\sklearn\\linear_model\\_coordinate_descent.py:532: ConvergenceWarning: Objective did not converge. You might want to increase the number of iterations. Duality gap: 811523000700.8591, tolerance: 1515807608.6357646\n",
      "  positive)\n",
      "C:\\Users\\Franc\\anaconda3\\lib\\site-packages\\sklearn\\linear_model\\_coordinate_descent.py:532: ConvergenceWarning: Objective did not converge. You might want to increase the number of iterations. Duality gap: 856237662625.5918, tolerance: 1545968373.693442\n",
      "  positive)\n",
      "C:\\Users\\Franc\\anaconda3\\lib\\site-packages\\sklearn\\linear_model\\_coordinate_descent.py:532: ConvergenceWarning: Objective did not converge. You might want to increase the number of iterations. Duality gap: 730469692040.7556, tolerance: 1536859599.6164982\n",
      "  positive)\n",
      "C:\\Users\\Franc\\anaconda3\\lib\\site-packages\\sklearn\\linear_model\\_coordinate_descent.py:532: ConvergenceWarning: Objective did not converge. You might want to increase the number of iterations. Duality gap: 730021730063.273, tolerance: 1533543348.4009626\n",
      "  positive)\n",
      "C:\\Users\\Franc\\anaconda3\\lib\\site-packages\\sklearn\\linear_model\\_coordinate_descent.py:532: ConvergenceWarning: Objective did not converge. You might want to increase the number of iterations. Duality gap: 753162083988.2683, tolerance: 1569498936.193926\n",
      "  positive)\n",
      "C:\\Users\\Franc\\anaconda3\\lib\\site-packages\\sklearn\\linear_model\\_coordinate_descent.py:532: ConvergenceWarning: Objective did not converge. You might want to increase the number of iterations. Duality gap: 706135380142.9219, tolerance: 1454832032.4183369\n",
      "  positive)\n",
      "C:\\Users\\Franc\\anaconda3\\lib\\site-packages\\sklearn\\linear_model\\_coordinate_descent.py:532: ConvergenceWarning: Objective did not converge. You might want to increase the number of iterations. Duality gap: 771457848921.3503, tolerance: 1567300499.9324098\n",
      "  positive)\n",
      "C:\\Users\\Franc\\anaconda3\\lib\\site-packages\\sklearn\\linear_model\\_coordinate_descent.py:532: ConvergenceWarning: Objective did not converge. You might want to increase the number of iterations. Duality gap: 769966105092.6687, tolerance: 1563613929.1629386\n",
      "  positive)\n",
      "C:\\Users\\Franc\\anaconda3\\lib\\site-packages\\sklearn\\linear_model\\_coordinate_descent.py:532: ConvergenceWarning: Objective did not converge. You might want to increase the number of iterations. Duality gap: 749644507178.3259, tolerance: 1548294253.8260388\n",
      "  positive)\n",
      "C:\\Users\\Franc\\anaconda3\\lib\\site-packages\\sklearn\\linear_model\\_coordinate_descent.py:532: ConvergenceWarning: Objective did not converge. You might want to increase the number of iterations. Duality gap: 776505722195.5955, tolerance: 1605914768.0799258\n",
      "  positive)\n",
      "C:\\Users\\Franc\\anaconda3\\lib\\site-packages\\sklearn\\linear_model\\_coordinate_descent.py:532: ConvergenceWarning: Objective did not converge. You might want to increase the number of iterations. Duality gap: 712602052313.0579, tolerance: 1515807608.6357646\n",
      "  positive)\n",
      "C:\\Users\\Franc\\anaconda3\\lib\\site-packages\\sklearn\\linear_model\\_coordinate_descent.py:532: ConvergenceWarning: Objective did not converge. You might want to increase the number of iterations. Duality gap: 760250780246.3297, tolerance: 1545968373.693442\n",
      "  positive)\n",
      "C:\\Users\\Franc\\anaconda3\\lib\\site-packages\\sklearn\\linear_model\\_coordinate_descent.py:532: ConvergenceWarning: Objective did not converge. You might want to increase the number of iterations. Duality gap: 547220199139.85175, tolerance: 1536859599.6164982\n",
      "  positive)\n",
      "C:\\Users\\Franc\\anaconda3\\lib\\site-packages\\sklearn\\linear_model\\_coordinate_descent.py:532: ConvergenceWarning: Objective did not converge. You might want to increase the number of iterations. Duality gap: 556176695501.0035, tolerance: 1533543348.4009626\n",
      "  positive)\n",
      "C:\\Users\\Franc\\anaconda3\\lib\\site-packages\\sklearn\\linear_model\\_coordinate_descent.py:532: ConvergenceWarning: Objective did not converge. You might want to increase the number of iterations. Duality gap: 560784232281.2843, tolerance: 1569498936.193926\n",
      "  positive)\n",
      "C:\\Users\\Franc\\anaconda3\\lib\\site-packages\\sklearn\\linear_model\\_coordinate_descent.py:532: ConvergenceWarning: Objective did not converge. You might want to increase the number of iterations. Duality gap: 512483265417.5883, tolerance: 1454832032.4183369\n",
      "  positive)\n",
      "C:\\Users\\Franc\\anaconda3\\lib\\site-packages\\sklearn\\linear_model\\_coordinate_descent.py:532: ConvergenceWarning: Objective did not converge. You might want to increase the number of iterations. Duality gap: 578681715990.128, tolerance: 1567300499.9324098\n",
      "  positive)\n",
      "C:\\Users\\Franc\\anaconda3\\lib\\site-packages\\sklearn\\linear_model\\_coordinate_descent.py:532: ConvergenceWarning: Objective did not converge. You might want to increase the number of iterations. Duality gap: 577022441914.0604, tolerance: 1563613929.1629386\n",
      "  positive)\n",
      "C:\\Users\\Franc\\anaconda3\\lib\\site-packages\\sklearn\\linear_model\\_coordinate_descent.py:532: ConvergenceWarning: Objective did not converge. You might want to increase the number of iterations. Duality gap: 560683886561.1136, tolerance: 1548294253.8260388\n",
      "  positive)\n",
      "C:\\Users\\Franc\\anaconda3\\lib\\site-packages\\sklearn\\linear_model\\_coordinate_descent.py:532: ConvergenceWarning: Objective did not converge. You might want to increase the number of iterations. Duality gap: 583290649286.3862, tolerance: 1605914768.0799258\n",
      "  positive)\n",
      "C:\\Users\\Franc\\anaconda3\\lib\\site-packages\\sklearn\\linear_model\\_coordinate_descent.py:532: ConvergenceWarning: Objective did not converge. You might want to increase the number of iterations. Duality gap: 510468261245.37836, tolerance: 1515807608.6357646\n",
      "  positive)\n",
      "C:\\Users\\Franc\\anaconda3\\lib\\site-packages\\sklearn\\linear_model\\_coordinate_descent.py:532: ConvergenceWarning: Objective did not converge. You might want to increase the number of iterations. Duality gap: 572247502888.4944, tolerance: 1545968373.693442\n",
      "  positive)\n",
      "C:\\Users\\Franc\\anaconda3\\lib\\site-packages\\sklearn\\linear_model\\_coordinate_descent.py:532: ConvergenceWarning: Objective did not converge. You might want to increase the number of iterations. Duality gap: 437242381977.19055, tolerance: 1536859599.6164982\n",
      "  positive)\n",
      "C:\\Users\\Franc\\anaconda3\\lib\\site-packages\\sklearn\\linear_model\\_coordinate_descent.py:532: ConvergenceWarning: Objective did not converge. You might want to increase the number of iterations. Duality gap: 430558896719.9507, tolerance: 1533543348.4009626\n",
      "  positive)\n",
      "C:\\Users\\Franc\\anaconda3\\lib\\site-packages\\sklearn\\linear_model\\_coordinate_descent.py:532: ConvergenceWarning: Objective did not converge. You might want to increase the number of iterations. Duality gap: 452324035550.1601, tolerance: 1569498936.193926\n",
      "  positive)\n"
     ]
    },
    {
     "name": "stderr",
     "output_type": "stream",
     "text": [
      "C:\\Users\\Franc\\anaconda3\\lib\\site-packages\\sklearn\\linear_model\\_coordinate_descent.py:532: ConvergenceWarning: Objective did not converge. You might want to increase the number of iterations. Duality gap: 423120393934.04895, tolerance: 1454832032.4183369\n",
      "  positive)\n",
      "C:\\Users\\Franc\\anaconda3\\lib\\site-packages\\sklearn\\linear_model\\_coordinate_descent.py:532: ConvergenceWarning: Objective did not converge. You might want to increase the number of iterations. Duality gap: 460308358861.4971, tolerance: 1567300499.9324098\n",
      "  positive)\n",
      "C:\\Users\\Franc\\anaconda3\\lib\\site-packages\\sklearn\\linear_model\\_coordinate_descent.py:532: ConvergenceWarning: Objective did not converge. You might want to increase the number of iterations. Duality gap: 463546300234.1498, tolerance: 1563613929.1629386\n",
      "  positive)\n",
      "C:\\Users\\Franc\\anaconda3\\lib\\site-packages\\sklearn\\linear_model\\_coordinate_descent.py:532: ConvergenceWarning: Objective did not converge. You might want to increase the number of iterations. Duality gap: 456988420609.36536, tolerance: 1548294253.8260388\n",
      "  positive)\n",
      "C:\\Users\\Franc\\anaconda3\\lib\\site-packages\\sklearn\\linear_model\\_coordinate_descent.py:532: ConvergenceWarning: Objective did not converge. You might want to increase the number of iterations. Duality gap: 462620473728.8198, tolerance: 1605914768.0799258\n",
      "  positive)\n",
      "C:\\Users\\Franc\\anaconda3\\lib\\site-packages\\sklearn\\linear_model\\_coordinate_descent.py:532: ConvergenceWarning: Objective did not converge. You might want to increase the number of iterations. Duality gap: 435462243718.1324, tolerance: 1515807608.6357646\n",
      "  positive)\n",
      "C:\\Users\\Franc\\anaconda3\\lib\\site-packages\\sklearn\\linear_model\\_coordinate_descent.py:532: ConvergenceWarning: Objective did not converge. You might want to increase the number of iterations. Duality gap: 454925793991.7865, tolerance: 1545968373.693442\n",
      "  positive)\n",
      "C:\\Users\\Franc\\anaconda3\\lib\\site-packages\\sklearn\\linear_model\\_coordinate_descent.py:532: ConvergenceWarning: Objective did not converge. You might want to increase the number of iterations. Duality gap: 1271541745407.8677, tolerance: 1536859599.6164982\n",
      "  positive)\n",
      "C:\\Users\\Franc\\anaconda3\\lib\\site-packages\\sklearn\\linear_model\\_coordinate_descent.py:532: ConvergenceWarning: Objective did not converge. You might want to increase the number of iterations. Duality gap: 1247342869613.7307, tolerance: 1533543348.4009626\n",
      "  positive)\n",
      "C:\\Users\\Franc\\anaconda3\\lib\\site-packages\\sklearn\\linear_model\\_coordinate_descent.py:532: ConvergenceWarning: Objective did not converge. You might want to increase the number of iterations. Duality gap: 1295174389065.87, tolerance: 1569498936.193926\n",
      "  positive)\n",
      "C:\\Users\\Franc\\anaconda3\\lib\\site-packages\\sklearn\\linear_model\\_coordinate_descent.py:532: ConvergenceWarning: Objective did not converge. You might want to increase the number of iterations. Duality gap: 1250601339276.3655, tolerance: 1454832032.4183369\n",
      "  positive)\n",
      "C:\\Users\\Franc\\anaconda3\\lib\\site-packages\\sklearn\\linear_model\\_coordinate_descent.py:532: ConvergenceWarning: Objective did not converge. You might want to increase the number of iterations. Duality gap: 1326212712618.5833, tolerance: 1567300499.9324098\n",
      "  positive)\n",
      "C:\\Users\\Franc\\anaconda3\\lib\\site-packages\\sklearn\\linear_model\\_coordinate_descent.py:532: ConvergenceWarning: Objective did not converge. You might want to increase the number of iterations. Duality gap: 1331388476862.347, tolerance: 1563613929.1629386\n",
      "  positive)\n",
      "C:\\Users\\Franc\\anaconda3\\lib\\site-packages\\sklearn\\linear_model\\_coordinate_descent.py:532: ConvergenceWarning: Objective did not converge. You might want to increase the number of iterations. Duality gap: 1285114223478.3298, tolerance: 1548294253.8260388\n",
      "  positive)\n",
      "C:\\Users\\Franc\\anaconda3\\lib\\site-packages\\sklearn\\linear_model\\_coordinate_descent.py:532: ConvergenceWarning: Objective did not converge. You might want to increase the number of iterations. Duality gap: 1341079081210.456, tolerance: 1605914768.0799258\n",
      "  positive)\n",
      "C:\\Users\\Franc\\anaconda3\\lib\\site-packages\\sklearn\\linear_model\\_coordinate_descent.py:532: ConvergenceWarning: Objective did not converge. You might want to increase the number of iterations. Duality gap: 1272228710477.3098, tolerance: 1515807608.6357646\n",
      "  positive)\n",
      "C:\\Users\\Franc\\anaconda3\\lib\\site-packages\\sklearn\\linear_model\\_coordinate_descent.py:532: ConvergenceWarning: Objective did not converge. You might want to increase the number of iterations. Duality gap: 1300244381447.4138, tolerance: 1545968373.693442\n",
      "  positive)\n",
      "C:\\Users\\Franc\\anaconda3\\lib\\site-packages\\sklearn\\linear_model\\_coordinate_descent.py:532: ConvergenceWarning: Objective did not converge. You might want to increase the number of iterations. Duality gap: 1259505484694.972, tolerance: 1536859599.6164982\n",
      "  positive)\n",
      "C:\\Users\\Franc\\anaconda3\\lib\\site-packages\\sklearn\\linear_model\\_coordinate_descent.py:532: ConvergenceWarning: Objective did not converge. You might want to increase the number of iterations. Duality gap: 1235906875373.8696, tolerance: 1533543348.4009626\n",
      "  positive)\n",
      "C:\\Users\\Franc\\anaconda3\\lib\\site-packages\\sklearn\\linear_model\\_coordinate_descent.py:532: ConvergenceWarning: Objective did not converge. You might want to increase the number of iterations. Duality gap: 1282992781471.4214, tolerance: 1569498936.193926\n",
      "  positive)\n",
      "C:\\Users\\Franc\\anaconda3\\lib\\site-packages\\sklearn\\linear_model\\_coordinate_descent.py:532: ConvergenceWarning: Objective did not converge. You might want to increase the number of iterations. Duality gap: 1238302908314.8347, tolerance: 1454832032.4183369\n",
      "  positive)\n",
      "C:\\Users\\Franc\\anaconda3\\lib\\site-packages\\sklearn\\linear_model\\_coordinate_descent.py:532: ConvergenceWarning: Objective did not converge. You might want to increase the number of iterations. Duality gap: 1313730259712.999, tolerance: 1567300499.9324098\n",
      "  positive)\n",
      "C:\\Users\\Franc\\anaconda3\\lib\\site-packages\\sklearn\\linear_model\\_coordinate_descent.py:532: ConvergenceWarning: Objective did not converge. You might want to increase the number of iterations. Duality gap: 1318797920438.898, tolerance: 1563613929.1629386\n",
      "  positive)\n",
      "C:\\Users\\Franc\\anaconda3\\lib\\site-packages\\sklearn\\linear_model\\_coordinate_descent.py:532: ConvergenceWarning: Objective did not converge. You might want to increase the number of iterations. Duality gap: 1272999030049.656, tolerance: 1548294253.8260388\n",
      "  positive)\n",
      "C:\\Users\\Franc\\anaconda3\\lib\\site-packages\\sklearn\\linear_model\\_coordinate_descent.py:532: ConvergenceWarning: Objective did not converge. You might want to increase the number of iterations. Duality gap: 1328388169909.9014, tolerance: 1605914768.0799258\n",
      "  positive)\n",
      "C:\\Users\\Franc\\anaconda3\\lib\\site-packages\\sklearn\\linear_model\\_coordinate_descent.py:532: ConvergenceWarning: Objective did not converge. You might want to increase the number of iterations. Duality gap: 1258331201831.2808, tolerance: 1515807608.6357646\n",
      "  positive)\n",
      "C:\\Users\\Franc\\anaconda3\\lib\\site-packages\\sklearn\\linear_model\\_coordinate_descent.py:532: ConvergenceWarning: Objective did not converge. You might want to increase the number of iterations. Duality gap: 1287979403298.383, tolerance: 1545968373.693442\n",
      "  positive)\n",
      "C:\\Users\\Franc\\anaconda3\\lib\\site-packages\\sklearn\\linear_model\\_coordinate_descent.py:532: ConvergenceWarning: Objective did not converge. You might want to increase the number of iterations. Duality gap: 1244644640573.5154, tolerance: 1536859599.6164982\n",
      "  positive)\n",
      "C:\\Users\\Franc\\anaconda3\\lib\\site-packages\\sklearn\\linear_model\\_coordinate_descent.py:532: ConvergenceWarning: Objective did not converge. You might want to increase the number of iterations. Duality gap: 1221807285128.4038, tolerance: 1533543348.4009626\n",
      "  positive)\n",
      "C:\\Users\\Franc\\anaconda3\\lib\\site-packages\\sklearn\\linear_model\\_coordinate_descent.py:532: ConvergenceWarning: Objective did not converge. You might want to increase the number of iterations. Duality gap: 1267955485831.562, tolerance: 1569498936.193926\n",
      "  positive)\n",
      "C:\\Users\\Franc\\anaconda3\\lib\\site-packages\\sklearn\\linear_model\\_coordinate_descent.py:532: ConvergenceWarning: Objective did not converge. You might want to increase the number of iterations. Duality gap: 1223114146763.1387, tolerance: 1454832032.4183369\n",
      "  positive)\n"
     ]
    },
    {
     "name": "stderr",
     "output_type": "stream",
     "text": [
      "C:\\Users\\Franc\\anaconda3\\lib\\site-packages\\sklearn\\linear_model\\_coordinate_descent.py:532: ConvergenceWarning: Objective did not converge. You might want to increase the number of iterations. Duality gap: 1298330747422.1277, tolerance: 1567300499.9324098\n",
      "  positive)\n",
      "C:\\Users\\Franc\\anaconda3\\lib\\site-packages\\sklearn\\linear_model\\_coordinate_descent.py:532: ConvergenceWarning: Objective did not converge. You might want to increase the number of iterations. Duality gap: 1303260221257.07, tolerance: 1563613929.1629386\n",
      "  positive)\n",
      "C:\\Users\\Franc\\anaconda3\\lib\\site-packages\\sklearn\\linear_model\\_coordinate_descent.py:532: ConvergenceWarning: Objective did not converge. You might want to increase the number of iterations. Duality gap: 1258056374839.3682, tolerance: 1548294253.8260388\n",
      "  positive)\n",
      "C:\\Users\\Franc\\anaconda3\\lib\\site-packages\\sklearn\\linear_model\\_coordinate_descent.py:532: ConvergenceWarning: Objective did not converge. You might want to increase the number of iterations. Duality gap: 1312725785995.2053, tolerance: 1605914768.0799258\n",
      "  positive)\n",
      "C:\\Users\\Franc\\anaconda3\\lib\\site-packages\\sklearn\\linear_model\\_coordinate_descent.py:532: ConvergenceWarning: Objective did not converge. You might want to increase the number of iterations. Duality gap: 1241144954238.9717, tolerance: 1515807608.6357646\n",
      "  positive)\n",
      "C:\\Users\\Franc\\anaconda3\\lib\\site-packages\\sklearn\\linear_model\\_coordinate_descent.py:532: ConvergenceWarning: Objective did not converge. You might want to increase the number of iterations. Duality gap: 1272854926420.299, tolerance: 1545968373.693442\n",
      "  positive)\n",
      "C:\\Users\\Franc\\anaconda3\\lib\\site-packages\\sklearn\\linear_model\\_coordinate_descent.py:532: ConvergenceWarning: Objective did not converge. You might want to increase the number of iterations. Duality gap: 1225671593307.7415, tolerance: 1536859599.6164982\n",
      "  positive)\n",
      "C:\\Users\\Franc\\anaconda3\\lib\\site-packages\\sklearn\\linear_model\\_coordinate_descent.py:532: ConvergenceWarning: Objective did not converge. You might want to increase the number of iterations. Duality gap: 1203830037155.4512, tolerance: 1533543348.4009626\n",
      "  positive)\n",
      "C:\\Users\\Franc\\anaconda3\\lib\\site-packages\\sklearn\\linear_model\\_coordinate_descent.py:532: ConvergenceWarning: Objective did not converge. You might want to increase the number of iterations. Duality gap: 1248755266379.7507, tolerance: 1569498936.193926\n",
      "  positive)\n",
      "C:\\Users\\Franc\\anaconda3\\lib\\site-packages\\sklearn\\linear_model\\_coordinate_descent.py:532: ConvergenceWarning: Objective did not converge. You might want to increase the number of iterations. Duality gap: 1203707173131.9746, tolerance: 1454832032.4183369\n",
      "  positive)\n",
      "C:\\Users\\Franc\\anaconda3\\lib\\site-packages\\sklearn\\linear_model\\_coordinate_descent.py:532: ConvergenceWarning: Objective did not converge. You might want to increase the number of iterations. Duality gap: 1278682238380.147, tolerance: 1567300499.9324098\n",
      "  positive)\n",
      "C:\\Users\\Franc\\anaconda3\\lib\\site-packages\\sklearn\\linear_model\\_coordinate_descent.py:532: ConvergenceWarning: Objective did not converge. You might want to increase the number of iterations. Duality gap: 1283430999369.3962, tolerance: 1563613929.1629386\n",
      "  positive)\n",
      "C:\\Users\\Franc\\anaconda3\\lib\\site-packages\\sklearn\\linear_model\\_coordinate_descent.py:532: ConvergenceWarning: Objective did not converge. You might want to increase the number of iterations. Duality gap: 1238995724483.8892, tolerance: 1548294253.8260388\n",
      "  positive)\n",
      "C:\\Users\\Franc\\anaconda3\\lib\\site-packages\\sklearn\\linear_model\\_coordinate_descent.py:532: ConvergenceWarning: Objective did not converge. You might want to increase the number of iterations. Duality gap: 1292739098405.9375, tolerance: 1605914768.0799258\n",
      "  positive)\n",
      "C:\\Users\\Franc\\anaconda3\\lib\\site-packages\\sklearn\\linear_model\\_coordinate_descent.py:532: ConvergenceWarning: Objective did not converge. You might want to increase the number of iterations. Duality gap: 1219159245459.5989, tolerance: 1515807608.6357646\n",
      "  positive)\n",
      "C:\\Users\\Franc\\anaconda3\\lib\\site-packages\\sklearn\\linear_model\\_coordinate_descent.py:532: ConvergenceWarning: Objective did not converge. You might want to increase the number of iterations. Duality gap: 1253569149394.0156, tolerance: 1545968373.693442\n",
      "  positive)\n",
      "C:\\Users\\Franc\\anaconda3\\lib\\site-packages\\sklearn\\linear_model\\_coordinate_descent.py:532: ConvergenceWarning: Objective did not converge. You might want to increase the number of iterations. Duality gap: 1200372156333.8293, tolerance: 1536859599.6164982\n",
      "  positive)\n",
      "C:\\Users\\Franc\\anaconda3\\lib\\site-packages\\sklearn\\linear_model\\_coordinate_descent.py:532: ConvergenceWarning: Objective did not converge. You might want to increase the number of iterations. Duality gap: 1179887057023.5945, tolerance: 1533543348.4009626\n",
      "  positive)\n",
      "C:\\Users\\Franc\\anaconda3\\lib\\site-packages\\sklearn\\linear_model\\_coordinate_descent.py:532: ConvergenceWarning: Objective did not converge. You might want to increase the number of iterations. Duality gap: 1223139290758.995, tolerance: 1569498936.193926\n",
      "  positive)\n",
      "C:\\Users\\Franc\\anaconda3\\lib\\site-packages\\sklearn\\linear_model\\_coordinate_descent.py:532: ConvergenceWarning: Objective did not converge. You might want to increase the number of iterations. Duality gap: 1177790736197.162, tolerance: 1454832032.4183369\n",
      "  positive)\n",
      "C:\\Users\\Franc\\anaconda3\\lib\\site-packages\\sklearn\\linear_model\\_coordinate_descent.py:532: ConvergenceWarning: Objective did not converge. You might want to increase the number of iterations. Duality gap: 1252492428660.6458, tolerance: 1567300499.9324098\n",
      "  positive)\n",
      "C:\\Users\\Franc\\anaconda3\\lib\\site-packages\\sklearn\\linear_model\\_coordinate_descent.py:532: ConvergenceWarning: Objective did not converge. You might want to increase the number of iterations. Duality gap: 1256998484244.1362, tolerance: 1563613929.1629386\n",
      "  positive)\n",
      "C:\\Users\\Franc\\anaconda3\\lib\\site-packages\\sklearn\\linear_model\\_coordinate_descent.py:532: ConvergenceWarning: Objective did not converge. You might want to increase the number of iterations. Duality gap: 1213596087098.8276, tolerance: 1548294253.8260388\n",
      "  positive)\n",
      "C:\\Users\\Franc\\anaconda3\\lib\\site-packages\\sklearn\\linear_model\\_coordinate_descent.py:532: ConvergenceWarning: Objective did not converge. You might want to increase the number of iterations. Duality gap: 1266102428633.0144, tolerance: 1605914768.0799258\n",
      "  positive)\n",
      "C:\\Users\\Franc\\anaconda3\\lib\\site-packages\\sklearn\\linear_model\\_coordinate_descent.py:532: ConvergenceWarning: Objective did not converge. You might want to increase the number of iterations. Duality gap: 1189770990383.6216, tolerance: 1515807608.6357646\n",
      "  positive)\n",
      "C:\\Users\\Franc\\anaconda3\\lib\\site-packages\\sklearn\\linear_model\\_coordinate_descent.py:532: ConvergenceWarning: Objective did not converge. You might want to increase the number of iterations. Duality gap: 1227884603434.01, tolerance: 1545968373.693442\n",
      "  positive)\n",
      "C:\\Users\\Franc\\anaconda3\\lib\\site-packages\\sklearn\\linear_model\\_coordinate_descent.py:532: ConvergenceWarning: Objective did not converge. You might want to increase the number of iterations. Duality gap: 1164579051285.5806, tolerance: 1536859599.6164982\n",
      "  positive)\n",
      "C:\\Users\\Franc\\anaconda3\\lib\\site-packages\\sklearn\\linear_model\\_coordinate_descent.py:532: ConvergenceWarning: Objective did not converge. You might want to increase the number of iterations. Duality gap: 1146049961991.9146, tolerance: 1533543348.4009626\n",
      "  positive)\n",
      "C:\\Users\\Franc\\anaconda3\\lib\\site-packages\\sklearn\\linear_model\\_coordinate_descent.py:532: ConvergenceWarning: Objective did not converge. You might want to increase the number of iterations. Duality gap: 1186855526043.9924, tolerance: 1569498936.193926\n",
      "  positive)\n",
      "C:\\Users\\Franc\\anaconda3\\lib\\site-packages\\sklearn\\linear_model\\_coordinate_descent.py:532: ConvergenceWarning: Objective did not converge. You might want to increase the number of iterations. Duality gap: 1141033492708.5642, tolerance: 1454832032.4183369\n",
      "  positive)\n",
      "C:\\Users\\Franc\\anaconda3\\lib\\site-packages\\sklearn\\linear_model\\_coordinate_descent.py:532: ConvergenceWarning: Objective did not converge. You might want to increase the number of iterations. Duality gap: 1215442076831.7104, tolerance: 1567300499.9324098\n",
      "  positive)\n"
     ]
    },
    {
     "name": "stderr",
     "output_type": "stream",
     "text": [
      "C:\\Users\\Franc\\anaconda3\\lib\\site-packages\\sklearn\\linear_model\\_coordinate_descent.py:532: ConvergenceWarning: Objective did not converge. You might want to increase the number of iterations. Duality gap: 1219609313729.3384, tolerance: 1563613929.1629386\n",
      "  positive)\n",
      "C:\\Users\\Franc\\anaconda3\\lib\\site-packages\\sklearn\\linear_model\\_coordinate_descent.py:532: ConvergenceWarning: Objective did not converge. You might want to increase the number of iterations. Duality gap: 1177672296264.2305, tolerance: 1548294253.8260388\n",
      "  positive)\n",
      "C:\\Users\\Franc\\anaconda3\\lib\\site-packages\\sklearn\\linear_model\\_coordinate_descent.py:532: ConvergenceWarning: Objective did not converge. You might want to increase the number of iterations. Duality gap: 1228441586283.79, tolerance: 1605914768.0799258\n",
      "  positive)\n",
      "C:\\Users\\Franc\\anaconda3\\lib\\site-packages\\sklearn\\linear_model\\_coordinate_descent.py:532: ConvergenceWarning: Objective did not converge. You might want to increase the number of iterations. Duality gap: 1148074704776.325, tolerance: 1515807608.6357646\n",
      "  positive)\n",
      "C:\\Users\\Franc\\anaconda3\\lib\\site-packages\\sklearn\\linear_model\\_coordinate_descent.py:532: ConvergenceWarning: Objective did not converge. You might want to increase the number of iterations. Duality gap: 1191592431954.639, tolerance: 1545968373.693442\n",
      "  positive)\n",
      "C:\\Users\\Franc\\anaconda3\\lib\\site-packages\\sklearn\\linear_model\\_coordinate_descent.py:532: ConvergenceWarning: Objective did not converge. You might want to increase the number of iterations. Duality gap: 1109363693764.8367, tolerance: 1536859599.6164982\n",
      "  positive)\n",
      "C:\\Users\\Franc\\anaconda3\\lib\\site-packages\\sklearn\\linear_model\\_coordinate_descent.py:532: ConvergenceWarning: Objective did not converge. You might want to increase the number of iterations. Duality gap: 1093902206917.6814, tolerance: 1533543348.4009626\n",
      "  positive)\n",
      "C:\\Users\\Franc\\anaconda3\\lib\\site-packages\\sklearn\\linear_model\\_coordinate_descent.py:532: ConvergenceWarning: Objective did not converge. You might want to increase the number of iterations. Duality gap: 1130758948900.877, tolerance: 1569498936.193926\n",
      "  positive)\n",
      "C:\\Users\\Franc\\anaconda3\\lib\\site-packages\\sklearn\\linear_model\\_coordinate_descent.py:532: ConvergenceWarning: Objective did not converge. You might want to increase the number of iterations. Duality gap: 1084102820804.5796, tolerance: 1454832032.4183369\n",
      "  positive)\n",
      "C:\\Users\\Franc\\anaconda3\\lib\\site-packages\\sklearn\\linear_model\\_coordinate_descent.py:532: ConvergenceWarning: Objective did not converge. You might want to increase the number of iterations. Duality gap: 1158260319921.3113, tolerance: 1567300499.9324098\n",
      "  positive)\n",
      "C:\\Users\\Franc\\anaconda3\\lib\\site-packages\\sklearn\\linear_model\\_coordinate_descent.py:532: ConvergenceWarning: Objective did not converge. You might want to increase the number of iterations. Duality gap: 1161933613777.3647, tolerance: 1563613929.1629386\n",
      "  positive)\n",
      "C:\\Users\\Franc\\anaconda3\\lib\\site-packages\\sklearn\\linear_model\\_coordinate_descent.py:532: ConvergenceWarning: Objective did not converge. You might want to increase the number of iterations. Duality gap: 1122241000060.406, tolerance: 1548294253.8260388\n",
      "  positive)\n",
      "C:\\Users\\Franc\\anaconda3\\lib\\site-packages\\sklearn\\linear_model\\_coordinate_descent.py:532: ConvergenceWarning: Objective did not converge. You might want to increase the number of iterations. Duality gap: 1170387751563.7825, tolerance: 1605914768.0799258\n",
      "  positive)\n",
      "C:\\Users\\Franc\\anaconda3\\lib\\site-packages\\sklearn\\linear_model\\_coordinate_descent.py:532: ConvergenceWarning: Objective did not converge. You might want to increase the number of iterations. Duality gap: 1083577824635.6171, tolerance: 1515807608.6357646\n",
      "  positive)\n",
      "C:\\Users\\Franc\\anaconda3\\lib\\site-packages\\sklearn\\linear_model\\_coordinate_descent.py:532: ConvergenceWarning: Objective did not converge. You might want to increase the number of iterations. Duality gap: 1135681637993.8286, tolerance: 1545968373.693442\n",
      "  positive)\n",
      "C:\\Users\\Franc\\anaconda3\\lib\\site-packages\\sklearn\\linear_model\\_coordinate_descent.py:532: ConvergenceWarning: Objective did not converge. You might want to increase the number of iterations. Duality gap: 1011262999576.284, tolerance: 1536859599.6164982\n",
      "  positive)\n",
      "C:\\Users\\Franc\\anaconda3\\lib\\site-packages\\sklearn\\linear_model\\_coordinate_descent.py:532: ConvergenceWarning: Objective did not converge. You might want to increase the number of iterations. Duality gap: 1001318423248.1519, tolerance: 1533543348.4009626\n",
      "  positive)\n",
      "C:\\Users\\Franc\\anaconda3\\lib\\site-packages\\sklearn\\linear_model\\_coordinate_descent.py:532: ConvergenceWarning: Objective did not converge. You might want to increase the number of iterations. Duality gap: 1030653860652.2847, tolerance: 1569498936.193926\n",
      "  positive)\n",
      "C:\\Users\\Franc\\anaconda3\\lib\\site-packages\\sklearn\\linear_model\\_coordinate_descent.py:532: ConvergenceWarning: Objective did not converge. You might want to increase the number of iterations. Duality gap: 982263554026.4912, tolerance: 1454832032.4183369\n",
      "  positive)\n",
      "C:\\Users\\Franc\\anaconda3\\lib\\site-packages\\sklearn\\linear_model\\_coordinate_descent.py:532: ConvergenceWarning: Objective did not converge. You might want to increase the number of iterations. Duality gap: 1056514040740.8633, tolerance: 1567300499.9324098\n",
      "  positive)\n",
      "C:\\Users\\Franc\\anaconda3\\lib\\site-packages\\sklearn\\linear_model\\_coordinate_descent.py:532: ConvergenceWarning: Objective did not converge. You might want to increase the number of iterations. Duality gap: 1059426865469.1428, tolerance: 1563613929.1629386\n",
      "  positive)\n",
      "C:\\Users\\Franc\\anaconda3\\lib\\site-packages\\sklearn\\linear_model\\_coordinate_descent.py:532: ConvergenceWarning: Objective did not converge. You might want to increase the number of iterations. Duality gap: 1023594832620.2413, tolerance: 1548294253.8260388\n",
      "  positive)\n",
      "C:\\Users\\Franc\\anaconda3\\lib\\site-packages\\sklearn\\linear_model\\_coordinate_descent.py:532: ConvergenceWarning: Objective did not converge. You might want to increase the number of iterations. Duality gap: 1067312764632.264, tolerance: 1605914768.0799258\n",
      "  positive)\n",
      "C:\\Users\\Franc\\anaconda3\\lib\\site-packages\\sklearn\\linear_model\\_coordinate_descent.py:532: ConvergenceWarning: Objective did not converge. You might want to increase the number of iterations. Duality gap: 968980675081.8011, tolerance: 1515807608.6357646\n",
      "  positive)\n",
      "C:\\Users\\Franc\\anaconda3\\lib\\site-packages\\sklearn\\linear_model\\_coordinate_descent.py:532: ConvergenceWarning: Objective did not converge. You might want to increase the number of iterations. Duality gap: 1036469637008.6519, tolerance: 1545968373.693442\n",
      "  positive)\n",
      "C:\\Users\\Franc\\anaconda3\\lib\\site-packages\\sklearn\\linear_model\\_coordinate_descent.py:532: ConvergenceWarning: Objective did not converge. You might want to increase the number of iterations. Duality gap: 779040238891.4485, tolerance: 1536859599.6164982\n",
      "  positive)\n",
      "C:\\Users\\Franc\\anaconda3\\lib\\site-packages\\sklearn\\linear_model\\_coordinate_descent.py:532: ConvergenceWarning: Objective did not converge. You might want to increase the number of iterations. Duality gap: 782127670631.5396, tolerance: 1533543348.4009626\n",
      "  positive)\n",
      "C:\\Users\\Franc\\anaconda3\\lib\\site-packages\\sklearn\\linear_model\\_coordinate_descent.py:532: ConvergenceWarning: Objective did not converge. You might want to increase the number of iterations. Duality gap: 791303080630.5306, tolerance: 1569498936.193926\n",
      "  positive)\n",
      "C:\\Users\\Franc\\anaconda3\\lib\\site-packages\\sklearn\\linear_model\\_coordinate_descent.py:532: ConvergenceWarning: Objective did not converge. You might want to increase the number of iterations. Duality gap: 738465351176.7343, tolerance: 1454832032.4183369\n",
      "  positive)\n",
      "C:\\Users\\Franc\\anaconda3\\lib\\site-packages\\sklearn\\linear_model\\_coordinate_descent.py:532: ConvergenceWarning: Objective did not converge. You might want to increase the number of iterations. Duality gap: 814695626099.1392, tolerance: 1567300499.9324098\n",
      "  positive)\n",
      "C:\\Users\\Franc\\anaconda3\\lib\\site-packages\\sklearn\\linear_model\\_coordinate_descent.py:532: ConvergenceWarning: Objective did not converge. You might want to increase the number of iterations. Duality gap: 816521608026.8085, tolerance: 1563613929.1629386\n",
      "  positive)\n"
     ]
    },
    {
     "name": "stderr",
     "output_type": "stream",
     "text": [
      "C:\\Users\\Franc\\anaconda3\\lib\\site-packages\\sklearn\\linear_model\\_coordinate_descent.py:532: ConvergenceWarning: Objective did not converge. You might want to increase the number of iterations. Duality gap: 788844528606.2697, tolerance: 1548294253.8260388\n",
      "  positive)\n",
      "C:\\Users\\Franc\\anaconda3\\lib\\site-packages\\sklearn\\linear_model\\_coordinate_descent.py:532: ConvergenceWarning: Objective did not converge. You might want to increase the number of iterations. Duality gap: 823324857773.3374, tolerance: 1605914768.0799258\n",
      "  positive)\n",
      "C:\\Users\\Franc\\anaconda3\\lib\\site-packages\\sklearn\\linear_model\\_coordinate_descent.py:532: ConvergenceWarning: Objective did not converge. You might want to increase the number of iterations. Duality gap: 703427054662.1765, tolerance: 1515807608.6357646\n",
      "  positive)\n",
      "C:\\Users\\Franc\\anaconda3\\lib\\site-packages\\sklearn\\linear_model\\_coordinate_descent.py:532: ConvergenceWarning: Objective did not converge. You might want to increase the number of iterations. Duality gap: 801773382184.2355, tolerance: 1545968373.693442\n",
      "  positive)\n",
      "C:\\Users\\Franc\\anaconda3\\lib\\site-packages\\sklearn\\linear_model\\_coordinate_descent.py:532: ConvergenceWarning: Objective did not converge. You might want to increase the number of iterations. Duality gap: 1342749111761.4333, tolerance: 1536859599.6164982\n",
      "  positive)\n",
      "C:\\Users\\Franc\\anaconda3\\lib\\site-packages\\sklearn\\linear_model\\_coordinate_descent.py:532: ConvergenceWarning: Objective did not converge. You might want to increase the number of iterations. Duality gap: 1319639839236.496, tolerance: 1533543348.4009626\n",
      "  positive)\n",
      "C:\\Users\\Franc\\anaconda3\\lib\\site-packages\\sklearn\\linear_model\\_coordinate_descent.py:532: ConvergenceWarning: Objective did not converge. You might want to increase the number of iterations. Duality gap: 1367254603247.0757, tolerance: 1569498936.193926\n",
      "  positive)\n",
      "C:\\Users\\Franc\\anaconda3\\lib\\site-packages\\sklearn\\linear_model\\_coordinate_descent.py:532: ConvergenceWarning: Objective did not converge. You might want to increase the number of iterations. Duality gap: 1321042340781.9983, tolerance: 1454832032.4183369\n",
      "  positive)\n",
      "C:\\Users\\Franc\\anaconda3\\lib\\site-packages\\sklearn\\linear_model\\_coordinate_descent.py:532: ConvergenceWarning: Objective did not converge. You might want to increase the number of iterations. Duality gap: 1400125714368.5015, tolerance: 1567300499.9324098\n",
      "  positive)\n",
      "C:\\Users\\Franc\\anaconda3\\lib\\site-packages\\sklearn\\linear_model\\_coordinate_descent.py:532: ConvergenceWarning: Objective did not converge. You might want to increase the number of iterations. Duality gap: 1405625162677.847, tolerance: 1563613929.1629386\n",
      "  positive)\n",
      "C:\\Users\\Franc\\anaconda3\\lib\\site-packages\\sklearn\\linear_model\\_coordinate_descent.py:532: ConvergenceWarning: Objective did not converge. You might want to increase the number of iterations. Duality gap: 1357223301089.9138, tolerance: 1548294253.8260388\n",
      "  positive)\n",
      "C:\\Users\\Franc\\anaconda3\\lib\\site-packages\\sklearn\\linear_model\\_coordinate_descent.py:532: ConvergenceWarning: Objective did not converge. You might want to increase the number of iterations. Duality gap: 1416128501865.0608, tolerance: 1605914768.0799258\n",
      "  positive)\n",
      "C:\\Users\\Franc\\anaconda3\\lib\\site-packages\\sklearn\\linear_model\\_coordinate_descent.py:532: ConvergenceWarning: Objective did not converge. You might want to increase the number of iterations. Duality gap: 1343239767947.5496, tolerance: 1515807608.6357646\n",
      "  positive)\n",
      "C:\\Users\\Franc\\anaconda3\\lib\\site-packages\\sklearn\\linear_model\\_coordinate_descent.py:532: ConvergenceWarning: Objective did not converge. You might want to increase the number of iterations. Duality gap: 1372731563403.7756, tolerance: 1545968373.693442\n",
      "  positive)\n",
      "C:\\Users\\Franc\\anaconda3\\lib\\site-packages\\sklearn\\linear_model\\_coordinate_descent.py:532: ConvergenceWarning: Objective did not converge. You might want to increase the number of iterations. Duality gap: 1321278494054.859, tolerance: 1536859599.6164982\n",
      "  positive)\n",
      "C:\\Users\\Franc\\anaconda3\\lib\\site-packages\\sklearn\\linear_model\\_coordinate_descent.py:532: ConvergenceWarning: Objective did not converge. You might want to increase the number of iterations. Duality gap: 1298943953883.437, tolerance: 1533543348.4009626\n",
      "  positive)\n",
      "C:\\Users\\Franc\\anaconda3\\lib\\site-packages\\sklearn\\linear_model\\_coordinate_descent.py:532: ConvergenceWarning: Objective did not converge. You might want to increase the number of iterations. Duality gap: 1344929800831.2175, tolerance: 1569498936.193926\n",
      "  positive)\n",
      "C:\\Users\\Franc\\anaconda3\\lib\\site-packages\\sklearn\\linear_model\\_coordinate_descent.py:532: ConvergenceWarning: Objective did not converge. You might want to increase the number of iterations. Duality gap: 1297981975943.2175, tolerance: 1454832032.4183369\n",
      "  positive)\n",
      "C:\\Users\\Franc\\anaconda3\\lib\\site-packages\\sklearn\\linear_model\\_coordinate_descent.py:532: ConvergenceWarning: Objective did not converge. You might want to increase the number of iterations. Duality gap: 1377105253319.5361, tolerance: 1567300499.9324098\n",
      "  positive)\n",
      "C:\\Users\\Franc\\anaconda3\\lib\\site-packages\\sklearn\\linear_model\\_coordinate_descent.py:532: ConvergenceWarning: Objective did not converge. You might want to increase the number of iterations. Duality gap: 1382754275918.892, tolerance: 1563613929.1629386\n",
      "  positive)\n",
      "C:\\Users\\Franc\\anaconda3\\lib\\site-packages\\sklearn\\linear_model\\_coordinate_descent.py:532: ConvergenceWarning: Objective did not converge. You might want to increase the number of iterations. Duality gap: 1334757195962.4658, tolerance: 1548294253.8260388\n",
      "  positive)\n",
      "C:\\Users\\Franc\\anaconda3\\lib\\site-packages\\sklearn\\linear_model\\_coordinate_descent.py:532: ConvergenceWarning: Objective did not converge. You might want to increase the number of iterations. Duality gap: 1393443606785.4485, tolerance: 1605914768.0799258\n",
      "  positive)\n",
      "C:\\Users\\Franc\\anaconda3\\lib\\site-packages\\sklearn\\linear_model\\_coordinate_descent.py:532: ConvergenceWarning: Objective did not converge. You might want to increase the number of iterations. Duality gap: 1317848664109.778, tolerance: 1515807608.6357646\n",
      "  positive)\n",
      "C:\\Users\\Franc\\anaconda3\\lib\\site-packages\\sklearn\\linear_model\\_coordinate_descent.py:532: ConvergenceWarning: Objective did not converge. You might want to increase the number of iterations. Duality gap: 1350142813595.9934, tolerance: 1545968373.693442\n",
      "  positive)\n",
      "C:\\Users\\Franc\\anaconda3\\lib\\site-packages\\sklearn\\linear_model\\_coordinate_descent.py:532: ConvergenceWarning: Objective did not converge. You might want to increase the number of iterations. Duality gap: 1299382601251.7263, tolerance: 1536859599.6164982\n",
      "  positive)\n",
      "C:\\Users\\Franc\\anaconda3\\lib\\site-packages\\sklearn\\linear_model\\_coordinate_descent.py:532: ConvergenceWarning: Objective did not converge. You might want to increase the number of iterations. Duality gap: 1277979193996.5474, tolerance: 1533543348.4009626\n",
      "  positive)\n",
      "C:\\Users\\Franc\\anaconda3\\lib\\site-packages\\sklearn\\linear_model\\_coordinate_descent.py:532: ConvergenceWarning: Objective did not converge. You might want to increase the number of iterations. Duality gap: 1322163781176.299, tolerance: 1569498936.193926\n",
      "  positive)\n",
      "C:\\Users\\Franc\\anaconda3\\lib\\site-packages\\sklearn\\linear_model\\_coordinate_descent.py:532: ConvergenceWarning: Objective did not converge. You might want to increase the number of iterations. Duality gap: 1274608506709.105, tolerance: 1454832032.4183369\n",
      "  positive)\n",
      "C:\\Users\\Franc\\anaconda3\\lib\\site-packages\\sklearn\\linear_model\\_coordinate_descent.py:532: ConvergenceWarning: Objective did not converge. You might want to increase the number of iterations. Duality gap: 1353687992533.1248, tolerance: 1567300499.9324098\n",
      "  positive)\n",
      "C:\\Users\\Franc\\anaconda3\\lib\\site-packages\\sklearn\\linear_model\\_coordinate_descent.py:532: ConvergenceWarning: Objective did not converge. You might want to increase the number of iterations. Duality gap: 1359430556674.8752, tolerance: 1563613929.1629386\n",
      "  positive)\n",
      "C:\\Users\\Franc\\anaconda3\\lib\\site-packages\\sklearn\\linear_model\\_coordinate_descent.py:532: ConvergenceWarning: Objective did not converge. You might want to increase the number of iterations. Duality gap: 1311828213843.0447, tolerance: 1548294253.8260388\n",
      "  positive)\n"
     ]
    },
    {
     "name": "stderr",
     "output_type": "stream",
     "text": [
      "C:\\Users\\Franc\\anaconda3\\lib\\site-packages\\sklearn\\linear_model\\_coordinate_descent.py:532: ConvergenceWarning: Objective did not converge. You might want to increase the number of iterations. Duality gap: 1370264387471.3296, tolerance: 1605914768.0799258\n",
      "  positive)\n",
      "C:\\Users\\Franc\\anaconda3\\lib\\site-packages\\sklearn\\linear_model\\_coordinate_descent.py:532: ConvergenceWarning: Objective did not converge. You might want to increase the number of iterations. Duality gap: 1292014460665.88, tolerance: 1515807608.6357646\n",
      "  positive)\n",
      "C:\\Users\\Franc\\anaconda3\\lib\\site-packages\\sklearn\\linear_model\\_coordinate_descent.py:532: ConvergenceWarning: Objective did not converge. You might want to increase the number of iterations. Duality gap: 1327140156282.3567, tolerance: 1545968373.693442\n",
      "  positive)\n",
      "C:\\Users\\Franc\\anaconda3\\lib\\site-packages\\sklearn\\linear_model\\_coordinate_descent.py:532: ConvergenceWarning: Objective did not converge. You might want to increase the number of iterations. Duality gap: 1275817300210.8093, tolerance: 1536859599.6164982\n",
      "  positive)\n",
      "C:\\Users\\Franc\\anaconda3\\lib\\site-packages\\sklearn\\linear_model\\_coordinate_descent.py:532: ConvergenceWarning: Objective did not converge. You might want to increase the number of iterations. Duality gap: 1255764388172.9766, tolerance: 1533543348.4009626\n",
      "  positive)\n",
      "C:\\Users\\Franc\\anaconda3\\lib\\site-packages\\sklearn\\linear_model\\_coordinate_descent.py:532: ConvergenceWarning: Objective did not converge. You might want to increase the number of iterations. Duality gap: 1297675419956.7905, tolerance: 1569498936.193926\n",
      "  positive)\n",
      "C:\\Users\\Franc\\anaconda3\\lib\\site-packages\\sklearn\\linear_model\\_coordinate_descent.py:532: ConvergenceWarning: Objective did not converge. You might want to increase the number of iterations. Duality gap: 1249587301439.7576, tolerance: 1454832032.4183369\n",
      "  positive)\n",
      "C:\\Users\\Franc\\anaconda3\\lib\\site-packages\\sklearn\\linear_model\\_coordinate_descent.py:532: ConvergenceWarning: Objective did not converge. You might want to increase the number of iterations. Duality gap: 1328555388017.9443, tolerance: 1567300499.9324098\n",
      "  positive)\n",
      "C:\\Users\\Franc\\anaconda3\\lib\\site-packages\\sklearn\\linear_model\\_coordinate_descent.py:532: ConvergenceWarning: Objective did not converge. You might want to increase the number of iterations. Duality gap: 1334344877067.893, tolerance: 1563613929.1629386\n",
      "  positive)\n",
      "C:\\Users\\Franc\\anaconda3\\lib\\site-packages\\sklearn\\linear_model\\_coordinate_descent.py:532: ConvergenceWarning: Objective did not converge. You might want to increase the number of iterations. Duality gap: 1287131516419.8054, tolerance: 1548294253.8260388\n",
      "  positive)\n",
      "C:\\Users\\Franc\\anaconda3\\lib\\site-packages\\sklearn\\linear_model\\_coordinate_descent.py:532: ConvergenceWarning: Objective did not converge. You might want to increase the number of iterations. Duality gap: 1345281428173.909, tolerance: 1605914768.0799258\n",
      "  positive)\n",
      "C:\\Users\\Franc\\anaconda3\\lib\\site-packages\\sklearn\\linear_model\\_coordinate_descent.py:532: ConvergenceWarning: Objective did not converge. You might want to increase the number of iterations. Duality gap: 1264386558504.6492, tolerance: 1515807608.6357646\n",
      "  positive)\n",
      "C:\\Users\\Franc\\anaconda3\\lib\\site-packages\\sklearn\\linear_model\\_coordinate_descent.py:532: ConvergenceWarning: Objective did not converge. You might want to increase the number of iterations. Duality gap: 1302443701222.5437, tolerance: 1545968373.693442\n",
      "  positive)\n",
      "C:\\Users\\Franc\\anaconda3\\lib\\site-packages\\sklearn\\linear_model\\_coordinate_descent.py:532: ConvergenceWarning: Objective did not converge. You might want to increase the number of iterations. Duality gap: 1248535357358.8943, tolerance: 1536859599.6164982\n",
      "  positive)\n",
      "C:\\Users\\Franc\\anaconda3\\lib\\site-packages\\sklearn\\linear_model\\_coordinate_descent.py:532: ConvergenceWarning: Objective did not converge. You might want to increase the number of iterations. Duality gap: 1230615967795.238, tolerance: 1533543348.4009626\n",
      "  positive)\n",
      "C:\\Users\\Franc\\anaconda3\\lib\\site-packages\\sklearn\\linear_model\\_coordinate_descent.py:532: ConvergenceWarning: Objective did not converge. You might want to increase the number of iterations. Duality gap: 1269357991280.9248, tolerance: 1569498936.193926\n",
      "  positive)\n",
      "C:\\Users\\Franc\\anaconda3\\lib\\site-packages\\sklearn\\linear_model\\_coordinate_descent.py:532: ConvergenceWarning: Objective did not converge. You might want to increase the number of iterations. Duality gap: 1220739177151.2524, tolerance: 1454832032.4183369\n",
      "  positive)\n",
      "C:\\Users\\Franc\\anaconda3\\lib\\site-packages\\sklearn\\linear_model\\_coordinate_descent.py:532: ConvergenceWarning: Objective did not converge. You might want to increase the number of iterations. Duality gap: 1299551477369.7197, tolerance: 1567300499.9324098\n",
      "  positive)\n",
      "C:\\Users\\Franc\\anaconda3\\lib\\site-packages\\sklearn\\linear_model\\_coordinate_descent.py:532: ConvergenceWarning: Objective did not converge. You might want to increase the number of iterations. Duality gap: 1305348311099.7275, tolerance: 1563613929.1629386\n",
      "  positive)\n",
      "C:\\Users\\Franc\\anaconda3\\lib\\site-packages\\sklearn\\linear_model\\_coordinate_descent.py:532: ConvergenceWarning: Objective did not converge. You might want to increase the number of iterations. Duality gap: 1258511490246.461, tolerance: 1548294253.8260388\n",
      "  positive)\n",
      "C:\\Users\\Franc\\anaconda3\\lib\\site-packages\\sklearn\\linear_model\\_coordinate_descent.py:532: ConvergenceWarning: Objective did not converge. You might want to increase the number of iterations. Duality gap: 1316335232103.8438, tolerance: 1605914768.0799258\n",
      "  positive)\n",
      "C:\\Users\\Franc\\anaconda3\\lib\\site-packages\\sklearn\\linear_model\\_coordinate_descent.py:532: ConvergenceWarning: Objective did not converge. You might want to increase the number of iterations. Duality gap: 1232811868043.4175, tolerance: 1515807608.6357646\n",
      "  positive)\n",
      "C:\\Users\\Franc\\anaconda3\\lib\\site-packages\\sklearn\\linear_model\\_coordinate_descent.py:532: ConvergenceWarning: Objective did not converge. You might want to increase the number of iterations. Duality gap: 1273960421782.9626, tolerance: 1545968373.693442\n",
      "  positive)\n",
      "C:\\Users\\Franc\\anaconda3\\lib\\site-packages\\sklearn\\linear_model\\_coordinate_descent.py:532: ConvergenceWarning: Objective did not converge. You might want to increase the number of iterations. Duality gap: 1218697062980.8262, tolerance: 1536859599.6164982\n",
      "  positive)\n",
      "C:\\Users\\Franc\\anaconda3\\lib\\site-packages\\sklearn\\linear_model\\_coordinate_descent.py:532: ConvergenceWarning: Objective did not converge. You might want to increase the number of iterations. Duality gap: 1199448961280.78, tolerance: 1533543348.4009626\n",
      "  positive)\n",
      "C:\\Users\\Franc\\anaconda3\\lib\\site-packages\\sklearn\\linear_model\\_coordinate_descent.py:532: ConvergenceWarning: Objective did not converge. You might want to increase the number of iterations. Duality gap: 1233169945913.6409, tolerance: 1569498936.193926\n",
      "  positive)\n",
      "C:\\Users\\Franc\\anaconda3\\lib\\site-packages\\sklearn\\linear_model\\_coordinate_descent.py:532: ConvergenceWarning: Objective did not converge. You might want to increase the number of iterations. Duality gap: 1183895572880.7202, tolerance: 1454832032.4183369\n",
      "  positive)\n",
      "C:\\Users\\Franc\\anaconda3\\lib\\site-packages\\sklearn\\linear_model\\_coordinate_descent.py:532: ConvergenceWarning: Objective did not converge. You might want to increase the number of iterations. Duality gap: 1262556726304.9805, tolerance: 1567300499.9324098\n",
      "  positive)\n",
      "C:\\Users\\Franc\\anaconda3\\lib\\site-packages\\sklearn\\linear_model\\_coordinate_descent.py:532: ConvergenceWarning: Objective did not converge. You might want to increase the number of iterations. Duality gap: 1268327844074.8884, tolerance: 1563613929.1629386\n",
      "  positive)\n",
      "C:\\Users\\Franc\\anaconda3\\lib\\site-packages\\sklearn\\linear_model\\_coordinate_descent.py:532: ConvergenceWarning: Objective did not converge. You might want to increase the number of iterations. Duality gap: 1227702784920.8474, tolerance: 1548294253.8260388\n",
      "  positive)\n",
      "C:\\Users\\Franc\\anaconda3\\lib\\site-packages\\sklearn\\linear_model\\_coordinate_descent.py:532: ConvergenceWarning: Objective did not converge. You might want to increase the number of iterations. Duality gap: 1284401799390.4946, tolerance: 1605914768.0799258\n",
      "  positive)\n"
     ]
    },
    {
     "name": "stderr",
     "output_type": "stream",
     "text": [
      "C:\\Users\\Franc\\anaconda3\\lib\\site-packages\\sklearn\\linear_model\\_coordinate_descent.py:532: ConvergenceWarning: Objective did not converge. You might want to increase the number of iterations. Duality gap: 1193341101573.0977, tolerance: 1515807608.6357646\n",
      "  positive)\n",
      "C:\\Users\\Franc\\anaconda3\\lib\\site-packages\\sklearn\\linear_model\\_coordinate_descent.py:532: ConvergenceWarning: Objective did not converge. You might want to increase the number of iterations. Duality gap: 1237698037832.6926, tolerance: 1545968373.693442\n",
      "  positive)\n",
      "C:\\Users\\Franc\\anaconda3\\lib\\site-packages\\sklearn\\linear_model\\_coordinate_descent.py:532: ConvergenceWarning: Objective did not converge. You might want to increase the number of iterations. Duality gap: 1172723008117.2466, tolerance: 1536859599.6164982\n",
      "  positive)\n",
      "C:\\Users\\Franc\\anaconda3\\lib\\site-packages\\sklearn\\linear_model\\_coordinate_descent.py:532: ConvergenceWarning: Objective did not converge. You might want to increase the number of iterations. Duality gap: 1155491949019.3054, tolerance: 1533543348.4009626\n",
      "  positive)\n",
      "C:\\Users\\Franc\\anaconda3\\lib\\site-packages\\sklearn\\linear_model\\_coordinate_descent.py:532: ConvergenceWarning: Objective did not converge. You might want to increase the number of iterations. Duality gap: 1190409222255.1248, tolerance: 1569498936.193926\n",
      "  positive)\n",
      "C:\\Users\\Franc\\anaconda3\\lib\\site-packages\\sklearn\\linear_model\\_coordinate_descent.py:532: ConvergenceWarning: Objective did not converge. You might want to increase the number of iterations. Duality gap: 1141110266991.8523, tolerance: 1454832032.4183369\n",
      "  positive)\n",
      "C:\\Users\\Franc\\anaconda3\\lib\\site-packages\\sklearn\\linear_model\\_coordinate_descent.py:532: ConvergenceWarning: Objective did not converge. You might want to increase the number of iterations. Duality gap: 1218754628408.7385, tolerance: 1567300499.9324098\n",
      "  positive)\n",
      "C:\\Users\\Franc\\anaconda3\\lib\\site-packages\\sklearn\\linear_model\\_coordinate_descent.py:532: ConvergenceWarning: Objective did not converge. You might want to increase the number of iterations. Duality gap: 1224116013177.6306, tolerance: 1563613929.1629386\n",
      "  positive)\n",
      "C:\\Users\\Franc\\anaconda3\\lib\\site-packages\\sklearn\\linear_model\\_coordinate_descent.py:532: ConvergenceWarning: Objective did not converge. You might want to increase the number of iterations. Duality gap: 1179918277245.4834, tolerance: 1548294253.8260388\n",
      "  positive)\n",
      "C:\\Users\\Franc\\anaconda3\\lib\\site-packages\\sklearn\\linear_model\\_coordinate_descent.py:532: ConvergenceWarning: Objective did not converge. You might want to increase the number of iterations. Duality gap: 1235418128140.8396, tolerance: 1605914768.0799258\n",
      "  positive)\n",
      "C:\\Users\\Franc\\anaconda3\\lib\\site-packages\\sklearn\\linear_model\\_coordinate_descent.py:532: ConvergenceWarning: Objective did not converge. You might want to increase the number of iterations. Duality gap: 1137381034580.1028, tolerance: 1515807608.6357646\n",
      "  positive)\n",
      "C:\\Users\\Franc\\anaconda3\\lib\\site-packages\\sklearn\\linear_model\\_coordinate_descent.py:532: ConvergenceWarning: Objective did not converge. You might want to increase the number of iterations. Duality gap: 1184436362753.4495, tolerance: 1545968373.693442\n",
      "  positive)\n",
      "C:\\Users\\Franc\\anaconda3\\lib\\site-packages\\sklearn\\linear_model\\_coordinate_descent.py:532: ConvergenceWarning: Objective did not converge. You might want to increase the number of iterations. Duality gap: 1092858354246.7026, tolerance: 1536859599.6164982\n",
      "  positive)\n",
      "C:\\Users\\Franc\\anaconda3\\lib\\site-packages\\sklearn\\linear_model\\_coordinate_descent.py:532: ConvergenceWarning: Objective did not converge. You might want to increase the number of iterations. Duality gap: 1079566609745.9884, tolerance: 1533543348.4009626\n",
      "  positive)\n",
      "C:\\Users\\Franc\\anaconda3\\lib\\site-packages\\sklearn\\linear_model\\_coordinate_descent.py:532: ConvergenceWarning: Objective did not converge. You might want to increase the number of iterations. Duality gap: 1107510993488.8687, tolerance: 1569498936.193926\n",
      "  positive)\n",
      "C:\\Users\\Franc\\anaconda3\\lib\\site-packages\\sklearn\\linear_model\\_coordinate_descent.py:532: ConvergenceWarning: Objective did not converge. You might want to increase the number of iterations. Duality gap: 1057288364152.8798, tolerance: 1454832032.4183369\n",
      "  positive)\n",
      "C:\\Users\\Franc\\anaconda3\\lib\\site-packages\\sklearn\\linear_model\\_coordinate_descent.py:532: ConvergenceWarning: Objective did not converge. You might want to increase the number of iterations. Duality gap: 1134099370948.9302, tolerance: 1567300499.9324098\n",
      "  positive)\n",
      "C:\\Users\\Franc\\anaconda3\\lib\\site-packages\\sklearn\\linear_model\\_coordinate_descent.py:532: ConvergenceWarning: Objective did not converge. You might want to increase the number of iterations. Duality gap: 1139007626803.7307, tolerance: 1563613929.1629386\n",
      "  positive)\n",
      "C:\\Users\\Franc\\anaconda3\\lib\\site-packages\\sklearn\\linear_model\\_coordinate_descent.py:532: ConvergenceWarning: Objective did not converge. You might want to increase the number of iterations. Duality gap: 1097145784032.6085, tolerance: 1548294253.8260388\n",
      "  positive)\n",
      "C:\\Users\\Franc\\anaconda3\\lib\\site-packages\\sklearn\\linear_model\\_coordinate_descent.py:532: ConvergenceWarning: Objective did not converge. You might want to increase the number of iterations. Duality gap: 1150325883407.3335, tolerance: 1605914768.0799258\n",
      "  positive)\n",
      "C:\\Users\\Franc\\anaconda3\\lib\\site-packages\\sklearn\\linear_model\\_coordinate_descent.py:532: ConvergenceWarning: Objective did not converge. You might want to increase the number of iterations. Duality gap: 1041137222236.2969, tolerance: 1515807608.6357646\n",
      "  positive)\n",
      "C:\\Users\\Franc\\anaconda3\\lib\\site-packages\\sklearn\\linear_model\\_coordinate_descent.py:532: ConvergenceWarning: Objective did not converge. You might want to increase the number of iterations. Duality gap: 1110549288465.4023, tolerance: 1545968373.693442\n",
      "  positive)\n",
      "C:\\Users\\Franc\\anaconda3\\lib\\site-packages\\sklearn\\linear_model\\_coordinate_descent.py:532: ConvergenceWarning: Objective did not converge. You might want to increase the number of iterations. Duality gap: 887851446806.3008, tolerance: 1536859599.6164982\n",
      "  positive)\n",
      "C:\\Users\\Franc\\anaconda3\\lib\\site-packages\\sklearn\\linear_model\\_coordinate_descent.py:532: ConvergenceWarning: Objective did not converge. You might want to increase the number of iterations. Duality gap: 885264073128.7163, tolerance: 1533543348.4009626\n",
      "  positive)\n",
      "C:\\Users\\Franc\\anaconda3\\lib\\site-packages\\sklearn\\linear_model\\_coordinate_descent.py:532: ConvergenceWarning: Objective did not converge. You might want to increase the number of iterations. Duality gap: 894712095906.144, tolerance: 1569498936.193926\n",
      "  positive)\n",
      "C:\\Users\\Franc\\anaconda3\\lib\\site-packages\\sklearn\\linear_model\\_coordinate_descent.py:532: ConvergenceWarning: Objective did not converge. You might want to increase the number of iterations. Duality gap: 842262094456.2009, tolerance: 1454832032.4183369\n",
      "  positive)\n",
      "C:\\Users\\Franc\\anaconda3\\lib\\site-packages\\sklearn\\linear_model\\_coordinate_descent.py:532: ConvergenceWarning: Objective did not converge. You might want to increase the number of iterations. Duality gap: 917403646863.0702, tolerance: 1567300499.9324098\n",
      "  positive)\n",
      "C:\\Users\\Franc\\anaconda3\\lib\\site-packages\\sklearn\\linear_model\\_coordinate_descent.py:532: ConvergenceWarning: Objective did not converge. You might want to increase the number of iterations. Duality gap: 921201458602.8738, tolerance: 1563613929.1629386\n",
      "  positive)\n",
      "C:\\Users\\Franc\\anaconda3\\lib\\site-packages\\sklearn\\linear_model\\_coordinate_descent.py:532: ConvergenceWarning: Objective did not converge. You might want to increase the number of iterations. Duality gap: 885437299423.6943, tolerance: 1548294253.8260388\n",
      "  positive)\n",
      "C:\\Users\\Franc\\anaconda3\\lib\\site-packages\\sklearn\\linear_model\\_coordinate_descent.py:532: ConvergenceWarning: Objective did not converge. You might want to increase the number of iterations. Duality gap: 932043059634.8601, tolerance: 1605914768.0799258\n",
      "  positive)\n",
      "C:\\Users\\Franc\\anaconda3\\lib\\site-packages\\sklearn\\linear_model\\_coordinate_descent.py:532: ConvergenceWarning: Objective did not converge. You might want to increase the number of iterations. Duality gap: 803748002134.2537, tolerance: 1515807608.6357646\n",
      "  positive)\n"
     ]
    },
    {
     "name": "stderr",
     "output_type": "stream",
     "text": [
      "C:\\Users\\Franc\\anaconda3\\lib\\site-packages\\sklearn\\linear_model\\_coordinate_descent.py:532: ConvergenceWarning: Objective did not converge. You might want to increase the number of iterations. Duality gap: 897513379324.9929, tolerance: 1545968373.693442\n",
      "  positive)\n"
     ]
    },
    {
     "data": {
      "text/plain": [
       "GridSearchCV(cv=10, estimator=ElasticNet(),\n",
       "             param_grid={'alpha': [1, 10, 100],\n",
       "                         'l1_ratio': [0.1, 0.2, 0.3, 0.4, 0.5, 0.6, 0.7, 0.8,\n",
       "                                      0.9, 1]},\n",
       "             scoring='neg_mean_squared_error')"
      ]
     },
     "execution_count": 63,
     "metadata": {},
     "output_type": "execute_result"
    }
   ],
   "source": [
    "GSCV.fit(X_train,y_train)"
   ]
  },
  {
   "cell_type": "markdown",
   "metadata": {},
   "source": [
    "**TASK: Display the best combination of parameters for your model**"
   ]
  },
  {
   "cell_type": "code",
   "execution_count": 64,
   "metadata": {},
   "outputs": [
    {
     "data": {
      "text/plain": [
       "{'alpha': 10, 'l1_ratio': 1}"
      ]
     },
     "execution_count": 64,
     "metadata": {},
     "output_type": "execute_result"
    }
   ],
   "source": [
    "GSCV.best_params_"
   ]
  },
  {
   "cell_type": "code",
   "execution_count": 54,
   "metadata": {},
   "outputs": [
    {
     "data": {
      "text/plain": [
       "{'alpha': 100, 'l1_ratio': 1}"
      ]
     },
     "execution_count": 54,
     "metadata": {},
     "output_type": "execute_result"
    }
   ],
   "source": []
  },
  {
   "cell_type": "markdown",
   "metadata": {},
   "source": [
    "**TASK: Evaluate your model's performance on the unseen 10% scaled test set. In the solutions notebook we achieved an MAE of $\\$$14149 and a RMSE of $\\$$20532**"
   ]
  },
  {
   "cell_type": "code",
   "execution_count": 65,
   "metadata": {},
   "outputs": [],
   "source": [
    "from sklearn.metrics import mean_absolute_error,mean_squared_error"
   ]
  },
  {
   "cell_type": "code",
   "execution_count": 71,
   "metadata": {},
   "outputs": [],
   "source": [
    "y_predict = GSCV.predict(X_test)"
   ]
  },
  {
   "cell_type": "code",
   "execution_count": 72,
   "metadata": {},
   "outputs": [
    {
     "data": {
      "text/plain": [
       "14281.96154625005"
      ]
     },
     "execution_count": 72,
     "metadata": {},
     "output_type": "execute_result"
    }
   ],
   "source": [
    "mean_absolute_error(y_test,y_predict)"
   ]
  },
  {
   "cell_type": "code",
   "execution_count": 47,
   "metadata": {},
   "outputs": [
    {
     "data": {
      "text/plain": [
       "14149.055026374837"
      ]
     },
     "execution_count": 47,
     "metadata": {},
     "output_type": "execute_result"
    }
   ],
   "source": []
  },
  {
   "cell_type": "code",
   "execution_count": 76,
   "metadata": {},
   "outputs": [
    {
     "data": {
      "text/plain": [
       "20368.867601394682"
      ]
     },
     "execution_count": 76,
     "metadata": {},
     "output_type": "execute_result"
    }
   ],
   "source": [
    "(mean_squared_error(y_test,y_predict))**(1/2)"
   ]
  },
  {
   "cell_type": "code",
   "execution_count": 48,
   "metadata": {},
   "outputs": [
    {
     "data": {
      "text/plain": [
       "20532.890234901013"
      ]
     },
     "execution_count": 48,
     "metadata": {},
     "output_type": "execute_result"
    }
   ],
   "source": []
  },
  {
   "cell_type": "markdown",
   "metadata": {},
   "source": [
    "## Great work!\n",
    "\n",
    "----"
   ]
  }
 ],
 "metadata": {
  "kernelspec": {
   "display_name": "Python 3",
   "language": "python",
   "name": "python3"
  },
  "language_info": {
   "codemirror_mode": {
    "name": "ipython",
    "version": 3
   },
   "file_extension": ".py",
   "mimetype": "text/x-python",
   "name": "python",
   "nbconvert_exporter": "python",
   "pygments_lexer": "ipython3",
   "version": "3.7.6"
  }
 },
 "nbformat": 4,
 "nbformat_minor": 2
}
